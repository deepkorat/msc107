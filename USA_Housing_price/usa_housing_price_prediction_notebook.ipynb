{
 "cells": [
  {
   "cell_type": "code",
   "execution_count": 1,
   "id": "e8c8f3b5",
   "metadata": {},
   "outputs": [],
   "source": [
    "import pandas as pd\n",
    "import numpy as np\n",
    "import matplotlib.pyplot as plt\n",
    "import seaborn as sns"
   ]
  },
  {
   "cell_type": "code",
   "execution_count": 2,
   "id": "a5dfd43c",
   "metadata": {},
   "outputs": [
    {
     "data": {
      "text/html": [
       "<div>\n",
       "<style scoped>\n",
       "    .dataframe tbody tr th:only-of-type {\n",
       "        vertical-align: middle;\n",
       "    }\n",
       "\n",
       "    .dataframe tbody tr th {\n",
       "        vertical-align: top;\n",
       "    }\n",
       "\n",
       "    .dataframe thead th {\n",
       "        text-align: right;\n",
       "    }\n",
       "</style>\n",
       "<table border=\"1\" class=\"dataframe\">\n",
       "  <thead>\n",
       "    <tr style=\"text-align: right;\">\n",
       "      <th></th>\n",
       "      <th>Avg. Area Income</th>\n",
       "      <th>Avg. Area House Age</th>\n",
       "      <th>Avg. Area Number of Rooms</th>\n",
       "      <th>Avg. Area Number of Bedrooms</th>\n",
       "      <th>Area Population</th>\n",
       "      <th>Price</th>\n",
       "      <th>Address</th>\n",
       "    </tr>\n",
       "  </thead>\n",
       "  <tbody>\n",
       "    <tr>\n",
       "      <th>3548</th>\n",
       "      <td>84123.990896</td>\n",
       "      <td>6.074466</td>\n",
       "      <td>6.571698</td>\n",
       "      <td>4.04</td>\n",
       "      <td>33946.371805</td>\n",
       "      <td>1.459835e+06</td>\n",
       "      <td>1141 Murphy Lane Suite 361\\nNorth Kristenmouth...</td>\n",
       "    </tr>\n",
       "    <tr>\n",
       "      <th>3482</th>\n",
       "      <td>67128.934720</td>\n",
       "      <td>8.339254</td>\n",
       "      <td>4.621620</td>\n",
       "      <td>4.17</td>\n",
       "      <td>48165.644986</td>\n",
       "      <td>1.524124e+06</td>\n",
       "      <td>216 Reyes Plaza\\nLake Robertstad, TX 63527-1930</td>\n",
       "    </tr>\n",
       "    <tr>\n",
       "      <th>1469</th>\n",
       "      <td>69380.837769</td>\n",
       "      <td>6.185506</td>\n",
       "      <td>6.115470</td>\n",
       "      <td>4.16</td>\n",
       "      <td>25327.686696</td>\n",
       "      <td>1.023965e+06</td>\n",
       "      <td>5119 Hess Circles\\nGouldview, FM 26660</td>\n",
       "    </tr>\n",
       "    <tr>\n",
       "      <th>1914</th>\n",
       "      <td>46361.583274</td>\n",
       "      <td>4.406831</td>\n",
       "      <td>7.959983</td>\n",
       "      <td>6.33</td>\n",
       "      <td>37548.264902</td>\n",
       "      <td>4.834585e+05</td>\n",
       "      <td>79100 Rivera Loaf\\nLiustad, OR 71668</td>\n",
       "    </tr>\n",
       "    <tr>\n",
       "      <th>734</th>\n",
       "      <td>76870.356285</td>\n",
       "      <td>5.359764</td>\n",
       "      <td>5.892954</td>\n",
       "      <td>4.32</td>\n",
       "      <td>25655.867123</td>\n",
       "      <td>1.039915e+06</td>\n",
       "      <td>60046 Destiny Port Suite 618\\nNorth Nataliehav...</td>\n",
       "    </tr>\n",
       "    <tr>\n",
       "      <th>3688</th>\n",
       "      <td>78929.781546</td>\n",
       "      <td>6.231375</td>\n",
       "      <td>7.203153</td>\n",
       "      <td>6.18</td>\n",
       "      <td>39667.863192</td>\n",
       "      <td>1.503327e+06</td>\n",
       "      <td>25024 John Way Suite 839\\nRodriguezchester, NJ...</td>\n",
       "    </tr>\n",
       "    <tr>\n",
       "      <th>1358</th>\n",
       "      <td>71227.388815</td>\n",
       "      <td>6.996436</td>\n",
       "      <td>8.006614</td>\n",
       "      <td>4.21</td>\n",
       "      <td>20096.291417</td>\n",
       "      <td>1.455692e+06</td>\n",
       "      <td>10454 Gonzales Summit Apt. 065\\nChambersstad, ...</td>\n",
       "    </tr>\n",
       "    <tr>\n",
       "      <th>906</th>\n",
       "      <td>70472.792378</td>\n",
       "      <td>6.010154</td>\n",
       "      <td>6.110192</td>\n",
       "      <td>3.24</td>\n",
       "      <td>34894.158826</td>\n",
       "      <td>1.265181e+06</td>\n",
       "      <td>4821 Christopher Park\\nLopezside, MH 21430</td>\n",
       "    </tr>\n",
       "    <tr>\n",
       "      <th>3277</th>\n",
       "      <td>63631.404131</td>\n",
       "      <td>6.083100</td>\n",
       "      <td>7.334558</td>\n",
       "      <td>6.05</td>\n",
       "      <td>33108.115145</td>\n",
       "      <td>1.296611e+06</td>\n",
       "      <td>4374 Lang Vista\\nLucasborough, MO 50846</td>\n",
       "    </tr>\n",
       "    <tr>\n",
       "      <th>2908</th>\n",
       "      <td>64861.913380</td>\n",
       "      <td>6.402507</td>\n",
       "      <td>8.079373</td>\n",
       "      <td>5.31</td>\n",
       "      <td>25032.136518</td>\n",
       "      <td>1.240504e+06</td>\n",
       "      <td>950 Ellison Haven Suite 426\\nPort Annaburgh, I...</td>\n",
       "    </tr>\n",
       "  </tbody>\n",
       "</table>\n",
       "</div>"
      ],
      "text/plain": [
       "      Avg. Area Income  Avg. Area House Age  Avg. Area Number of Rooms  \\\n",
       "3548      84123.990896             6.074466                   6.571698   \n",
       "3482      67128.934720             8.339254                   4.621620   \n",
       "1469      69380.837769             6.185506                   6.115470   \n",
       "1914      46361.583274             4.406831                   7.959983   \n",
       "734       76870.356285             5.359764                   5.892954   \n",
       "3688      78929.781546             6.231375                   7.203153   \n",
       "1358      71227.388815             6.996436                   8.006614   \n",
       "906       70472.792378             6.010154                   6.110192   \n",
       "3277      63631.404131             6.083100                   7.334558   \n",
       "2908      64861.913380             6.402507                   8.079373   \n",
       "\n",
       "      Avg. Area Number of Bedrooms  Area Population         Price  \\\n",
       "3548                          4.04     33946.371805  1.459835e+06   \n",
       "3482                          4.17     48165.644986  1.524124e+06   \n",
       "1469                          4.16     25327.686696  1.023965e+06   \n",
       "1914                          6.33     37548.264902  4.834585e+05   \n",
       "734                           4.32     25655.867123  1.039915e+06   \n",
       "3688                          6.18     39667.863192  1.503327e+06   \n",
       "1358                          4.21     20096.291417  1.455692e+06   \n",
       "906                           3.24     34894.158826  1.265181e+06   \n",
       "3277                          6.05     33108.115145  1.296611e+06   \n",
       "2908                          5.31     25032.136518  1.240504e+06   \n",
       "\n",
       "                                                Address  \n",
       "3548  1141 Murphy Lane Suite 361\\nNorth Kristenmouth...  \n",
       "3482    216 Reyes Plaza\\nLake Robertstad, TX 63527-1930  \n",
       "1469             5119 Hess Circles\\nGouldview, FM 26660  \n",
       "1914               79100 Rivera Loaf\\nLiustad, OR 71668  \n",
       "734   60046 Destiny Port Suite 618\\nNorth Nataliehav...  \n",
       "3688  25024 John Way Suite 839\\nRodriguezchester, NJ...  \n",
       "1358  10454 Gonzales Summit Apt. 065\\nChambersstad, ...  \n",
       "906          4821 Christopher Park\\nLopezside, MH 21430  \n",
       "3277            4374 Lang Vista\\nLucasborough, MO 50846  \n",
       "2908  950 Ellison Haven Suite 426\\nPort Annaburgh, I...  "
      ]
     },
     "execution_count": 2,
     "metadata": {},
     "output_type": "execute_result"
    }
   ],
   "source": [
    "df = pd.read_csv(\"USA_Housing.csv\")\n",
    "df.sample(10)"
   ]
  },
  {
   "cell_type": "code",
   "execution_count": 4,
   "id": "91f3faff",
   "metadata": {},
   "outputs": [
    {
     "data": {
      "text/plain": [
       "(5000, 7)"
      ]
     },
     "execution_count": 4,
     "metadata": {},
     "output_type": "execute_result"
    }
   ],
   "source": [
    "df.shape"
   ]
  },
  {
   "cell_type": "code",
   "execution_count": 7,
   "id": "3baf600e",
   "metadata": {},
   "outputs": [
    {
     "data": {
      "text/html": [
       "<div>\n",
       "<style scoped>\n",
       "    .dataframe tbody tr th:only-of-type {\n",
       "        vertical-align: middle;\n",
       "    }\n",
       "\n",
       "    .dataframe tbody tr th {\n",
       "        vertical-align: top;\n",
       "    }\n",
       "\n",
       "    .dataframe thead th {\n",
       "        text-align: right;\n",
       "    }\n",
       "</style>\n",
       "<table border=\"1\" class=\"dataframe\">\n",
       "  <thead>\n",
       "    <tr style=\"text-align: right;\">\n",
       "      <th></th>\n",
       "      <th>Avg. Area Income</th>\n",
       "      <th>Avg. Area House Age</th>\n",
       "      <th>Avg. Area Number of Rooms</th>\n",
       "      <th>Avg. Area Number of Bedrooms</th>\n",
       "      <th>Area Population</th>\n",
       "      <th>Price</th>\n",
       "    </tr>\n",
       "  </thead>\n",
       "  <tbody>\n",
       "    <tr>\n",
       "      <th>count</th>\n",
       "      <td>5000.000000</td>\n",
       "      <td>5000.000000</td>\n",
       "      <td>5000.000000</td>\n",
       "      <td>5000.000000</td>\n",
       "      <td>5000.000000</td>\n",
       "      <td>5.000000e+03</td>\n",
       "    </tr>\n",
       "    <tr>\n",
       "      <th>mean</th>\n",
       "      <td>68583.108984</td>\n",
       "      <td>5.977222</td>\n",
       "      <td>6.987792</td>\n",
       "      <td>3.981330</td>\n",
       "      <td>36163.516039</td>\n",
       "      <td>1.232073e+06</td>\n",
       "    </tr>\n",
       "    <tr>\n",
       "      <th>std</th>\n",
       "      <td>10657.991214</td>\n",
       "      <td>0.991456</td>\n",
       "      <td>1.005833</td>\n",
       "      <td>1.234137</td>\n",
       "      <td>9925.650114</td>\n",
       "      <td>3.531176e+05</td>\n",
       "    </tr>\n",
       "    <tr>\n",
       "      <th>min</th>\n",
       "      <td>17796.631190</td>\n",
       "      <td>2.644304</td>\n",
       "      <td>3.236194</td>\n",
       "      <td>2.000000</td>\n",
       "      <td>172.610686</td>\n",
       "      <td>1.593866e+04</td>\n",
       "    </tr>\n",
       "    <tr>\n",
       "      <th>25%</th>\n",
       "      <td>61480.562388</td>\n",
       "      <td>5.322283</td>\n",
       "      <td>6.299250</td>\n",
       "      <td>3.140000</td>\n",
       "      <td>29403.928702</td>\n",
       "      <td>9.975771e+05</td>\n",
       "    </tr>\n",
       "    <tr>\n",
       "      <th>50%</th>\n",
       "      <td>68804.286404</td>\n",
       "      <td>5.970429</td>\n",
       "      <td>7.002902</td>\n",
       "      <td>4.050000</td>\n",
       "      <td>36199.406689</td>\n",
       "      <td>1.232669e+06</td>\n",
       "    </tr>\n",
       "    <tr>\n",
       "      <th>75%</th>\n",
       "      <td>75783.338666</td>\n",
       "      <td>6.650808</td>\n",
       "      <td>7.665871</td>\n",
       "      <td>4.490000</td>\n",
       "      <td>42861.290769</td>\n",
       "      <td>1.471210e+06</td>\n",
       "    </tr>\n",
       "    <tr>\n",
       "      <th>max</th>\n",
       "      <td>107701.748378</td>\n",
       "      <td>9.519088</td>\n",
       "      <td>10.759588</td>\n",
       "      <td>6.500000</td>\n",
       "      <td>69621.713378</td>\n",
       "      <td>2.469066e+06</td>\n",
       "    </tr>\n",
       "  </tbody>\n",
       "</table>\n",
       "</div>"
      ],
      "text/plain": [
       "       Avg. Area Income  Avg. Area House Age  Avg. Area Number of Rooms  \\\n",
       "count       5000.000000          5000.000000                5000.000000   \n",
       "mean       68583.108984             5.977222                   6.987792   \n",
       "std        10657.991214             0.991456                   1.005833   \n",
       "min        17796.631190             2.644304                   3.236194   \n",
       "25%        61480.562388             5.322283                   6.299250   \n",
       "50%        68804.286404             5.970429                   7.002902   \n",
       "75%        75783.338666             6.650808                   7.665871   \n",
       "max       107701.748378             9.519088                  10.759588   \n",
       "\n",
       "       Avg. Area Number of Bedrooms  Area Population         Price  \n",
       "count                   5000.000000      5000.000000  5.000000e+03  \n",
       "mean                       3.981330     36163.516039  1.232073e+06  \n",
       "std                        1.234137      9925.650114  3.531176e+05  \n",
       "min                        2.000000       172.610686  1.593866e+04  \n",
       "25%                        3.140000     29403.928702  9.975771e+05  \n",
       "50%                        4.050000     36199.406689  1.232669e+06  \n",
       "75%                        4.490000     42861.290769  1.471210e+06  \n",
       "max                        6.500000     69621.713378  2.469066e+06  "
      ]
     },
     "execution_count": 7,
     "metadata": {},
     "output_type": "execute_result"
    }
   ],
   "source": [
    "df.describe()"
   ]
  },
  {
   "cell_type": "code",
   "execution_count": 9,
   "id": "7b546dee",
   "metadata": {},
   "outputs": [
    {
     "data": {
      "text/plain": [
       "Avg. Area Income                0\n",
       "Avg. Area House Age             0\n",
       "Avg. Area Number of Rooms       0\n",
       "Avg. Area Number of Bedrooms    0\n",
       "Area Population                 0\n",
       "Price                           0\n",
       "Address                         0\n",
       "dtype: int64"
      ]
     },
     "execution_count": 9,
     "metadata": {},
     "output_type": "execute_result"
    }
   ],
   "source": [
    "df.isnull().sum()"
   ]
  },
  {
   "cell_type": "markdown",
   "id": "f243c844",
   "metadata": {},
   "source": [
    "### There are No any Null values"
   ]
  },
  {
   "cell_type": "code",
   "execution_count": 34,
   "id": "24742684",
   "metadata": {},
   "outputs": [
    {
     "data": {
      "text/plain": [
       "0"
      ]
     },
     "execution_count": 34,
     "metadata": {},
     "output_type": "execute_result"
    }
   ],
   "source": [
    "df.duplicated().sum()"
   ]
  },
  {
   "cell_type": "markdown",
   "id": "144e216c",
   "metadata": {},
   "source": [
    "### There are no Duplicated values in dataset"
   ]
  },
  {
   "cell_type": "code",
   "execution_count": 88,
   "id": "38c4d0b6",
   "metadata": {},
   "outputs": [
    {
     "data": {
      "image/png": "[encoded data removed]",
      "text/plain": [
       "<Figure size 640x480 with 1 Axes>"
      ]
     },
     "metadata": {},
     "output_type": "display_data"
    }
   ],
   "source": [
    "fig = plt.figure()\n",
    "sns.boxplot(df.drop(columns=['Price']))\n",
    "fig.autofmt_xdate()"
   ]
  },
  {
   "cell_type": "code",
   "execution_count": 90,
   "id": "4dd9d087",
   "metadata": {},
   "outputs": [],
   "source": [
    "df_o = df.clip(df.drop(columns=['Price']).quantile(0.1), df.drop(columns=['Price']).quantile(0.9), axis=1)"
   ]
  },
  {
   "cell_type": "code",
   "execution_count": 91,
   "id": "eeb4a034",
   "metadata": {},
   "outputs": [
    {
     "data": {
      "image/png": "[encoded data removed]",
      "text/plain": [
       "<Figure size 640x480 with 1 Axes>"
      ]
     },
     "metadata": {},
     "output_type": "display_data"
    }
   ],
   "source": [
    "fig = plt.figure()\n",
    "sns.boxplot(df_o)\n",
    "fig.autofmt_xdate()"
   ]
  },
  {
   "cell_type": "code",
   "execution_count": 92,
   "id": "f4517c74",
   "metadata": {},
   "outputs": [
    {
     "data": {
      "text/plain": [
       "(5000, 7)"
      ]
     },
     "execution_count": 92,
     "metadata": {},
     "output_type": "execute_result"
    }
   ],
   "source": [
    "df_o.shape"
   ]
  },
  {
   "cell_type": "markdown",
   "id": "d33731e2",
   "metadata": {},
   "source": [
    "### Here, clip function replaced all outlier to mean"
   ]
  },
  {
   "cell_type": "code",
   "execution_count": null,
   "id": "0880289c",
   "metadata": {},
   "outputs": [],
   "source": [
    "df_o.drop(columns=['Price', 'Address'], inplace=True)"
   ]
  },
  {
   "cell_type": "markdown",
   "id": "f2ebb873",
   "metadata": {},
   "source": [
    "### Standardization Formula\n",
    "\n",
    "Z-Score = (Current_value – Mean) / Standard Deviation"
   ]
  },
  {
   "cell_type": "code",
   "execution_count": 105,
   "id": "169d5356",
   "metadata": {},
   "outputs": [
    {
     "data": {
      "text/html": [
       "<div>\n",
       "<style scoped>\n",
       "    .dataframe tbody tr th:only-of-type {\n",
       "        vertical-align: middle;\n",
       "    }\n",
       "\n",
       "    .dataframe tbody tr th {\n",
       "        vertical-align: top;\n",
       "    }\n",
       "\n",
       "    .dataframe thead th {\n",
       "        text-align: right;\n",
       "    }\n",
       "</style>\n",
       "<table border=\"1\" class=\"dataframe\">\n",
       "  <thead>\n",
       "    <tr style=\"text-align: right;\">\n",
       "      <th></th>\n",
       "      <th>Avg. Area Income</th>\n",
       "      <th>Avg. Area House Age</th>\n",
       "      <th>Avg. Area Number of Rooms</th>\n",
       "      <th>Avg. Area Number of Bedrooms</th>\n",
       "      <th>Area Population</th>\n",
       "    </tr>\n",
       "  </thead>\n",
       "  <tbody>\n",
       "    <tr>\n",
       "      <th>0</th>\n",
       "      <td>79545.458574</td>\n",
       "      <td>5.682861</td>\n",
       "      <td>7.009188</td>\n",
       "      <td>4.09</td>\n",
       "      <td>23502.845262</td>\n",
       "    </tr>\n",
       "    <tr>\n",
       "      <th>1</th>\n",
       "      <td>79248.642455</td>\n",
       "      <td>6.002900</td>\n",
       "      <td>6.730821</td>\n",
       "      <td>3.09</td>\n",
       "      <td>40173.072174</td>\n",
       "    </tr>\n",
       "    <tr>\n",
       "      <th>2</th>\n",
       "      <td>61287.067179</td>\n",
       "      <td>5.865890</td>\n",
       "      <td>8.274222</td>\n",
       "      <td>5.13</td>\n",
       "      <td>36882.159400</td>\n",
       "    </tr>\n",
       "    <tr>\n",
       "      <th>3</th>\n",
       "      <td>63345.240046</td>\n",
       "      <td>7.188236</td>\n",
       "      <td>5.681951</td>\n",
       "      <td>3.26</td>\n",
       "      <td>34310.242831</td>\n",
       "    </tr>\n",
       "    <tr>\n",
       "      <th>4</th>\n",
       "      <td>59982.197226</td>\n",
       "      <td>5.040555</td>\n",
       "      <td>7.839388</td>\n",
       "      <td>4.23</td>\n",
       "      <td>26354.109472</td>\n",
       "    </tr>\n",
       "    <tr>\n",
       "      <th>...</th>\n",
       "      <td>...</td>\n",
       "      <td>...</td>\n",
       "      <td>...</td>\n",
       "      <td>...</td>\n",
       "      <td>...</td>\n",
       "    </tr>\n",
       "    <tr>\n",
       "      <th>4995</th>\n",
       "      <td>60567.944140</td>\n",
       "      <td>7.243978</td>\n",
       "      <td>6.137356</td>\n",
       "      <td>3.46</td>\n",
       "      <td>23502.845262</td>\n",
       "    </tr>\n",
       "    <tr>\n",
       "      <th>4996</th>\n",
       "      <td>78491.275435</td>\n",
       "      <td>6.999135</td>\n",
       "      <td>6.576763</td>\n",
       "      <td>4.02</td>\n",
       "      <td>25616.115489</td>\n",
       "    </tr>\n",
       "    <tr>\n",
       "      <th>4997</th>\n",
       "      <td>63390.686886</td>\n",
       "      <td>7.243978</td>\n",
       "      <td>5.681951</td>\n",
       "      <td>2.31</td>\n",
       "      <td>33266.145490</td>\n",
       "    </tr>\n",
       "    <tr>\n",
       "      <th>4998</th>\n",
       "      <td>68001.331235</td>\n",
       "      <td>5.534388</td>\n",
       "      <td>7.130144</td>\n",
       "      <td>5.44</td>\n",
       "      <td>42625.620156</td>\n",
       "    </tr>\n",
       "    <tr>\n",
       "      <th>4999</th>\n",
       "      <td>65510.581804</td>\n",
       "      <td>5.992305</td>\n",
       "      <td>6.792336</td>\n",
       "      <td>4.07</td>\n",
       "      <td>46501.283803</td>\n",
       "    </tr>\n",
       "  </tbody>\n",
       "</table>\n",
       "<p>5000 rows × 5 columns</p>\n",
       "</div>"
      ],
      "text/plain": [
       "      Avg. Area Income  Avg. Area House Age  Avg. Area Number of Rooms  \\\n",
       "0         79545.458574             5.682861                   7.009188   \n",
       "1         79248.642455             6.002900                   6.730821   \n",
       "2         61287.067179             5.865890                   8.274222   \n",
       "3         63345.240046             7.188236                   5.681951   \n",
       "4         59982.197226             5.040555                   7.839388   \n",
       "...                ...                  ...                        ...   \n",
       "4995      60567.944140             7.243978                   6.137356   \n",
       "4996      78491.275435             6.999135                   6.576763   \n",
       "4997      63390.686886             7.243978                   5.681951   \n",
       "4998      68001.331235             5.534388                   7.130144   \n",
       "4999      65510.581804             5.992305                   6.792336   \n",
       "\n",
       "      Avg. Area Number of Bedrooms  Area Population  \n",
       "0                             4.09     23502.845262  \n",
       "1                             3.09     40173.072174  \n",
       "2                             5.13     36882.159400  \n",
       "3                             3.26     34310.242831  \n",
       "4                             4.23     26354.109472  \n",
       "...                            ...              ...  \n",
       "4995                          3.46     23502.845262  \n",
       "4996                          4.02     25616.115489  \n",
       "4997                          2.31     33266.145490  \n",
       "4998                          5.44     42625.620156  \n",
       "4999                          4.07     46501.283803  \n",
       "\n",
       "[5000 rows x 5 columns]"
      ]
     },
     "execution_count": 105,
     "metadata": {},
     "output_type": "execute_result"
    }
   ],
   "source": [
    "df_o"
   ]
  },
  {
   "cell_type": "code",
   "execution_count": 152,
   "id": "4152b8fd",
   "metadata": {},
   "outputs": [
    {
     "data": {
      "text/html": [
       "<div>\n",
       "<style scoped>\n",
       "    .dataframe tbody tr th:only-of-type {\n",
       "        vertical-align: middle;\n",
       "    }\n",
       "\n",
       "    .dataframe tbody tr th {\n",
       "        vertical-align: top;\n",
       "    }\n",
       "\n",
       "    .dataframe thead th {\n",
       "        text-align: right;\n",
       "    }\n",
       "</style>\n",
       "<table border=\"1\" class=\"dataframe\">\n",
       "  <thead>\n",
       "    <tr style=\"text-align: right;\">\n",
       "      <th></th>\n",
       "      <th>Avg. Area Income</th>\n",
       "      <th>Avg. Area House Age</th>\n",
       "      <th>Avg. Area Number of Rooms</th>\n",
       "      <th>Avg. Area Number of Bedrooms</th>\n",
       "      <th>Area Population</th>\n",
       "    </tr>\n",
       "  </thead>\n",
       "  <tbody>\n",
       "    <tr>\n",
       "      <th>0</th>\n",
       "      <td>1.257355</td>\n",
       "      <td>-0.359206</td>\n",
       "      <td>0.024099</td>\n",
       "      <td>0.095848</td>\n",
       "      <td>-1.546480</td>\n",
       "    </tr>\n",
       "    <tr>\n",
       "      <th>1</th>\n",
       "      <td>1.223251</td>\n",
       "      <td>0.032077</td>\n",
       "      <td>-0.309755</td>\n",
       "      <td>-0.756286</td>\n",
       "      <td>0.496518</td>\n",
       "    </tr>\n",
       "    <tr>\n",
       "      <th>2</th>\n",
       "      <td>-0.840522</td>\n",
       "      <td>-0.135433</td>\n",
       "      <td>1.541294</td>\n",
       "      <td>0.982068</td>\n",
       "      <td>0.093205</td>\n",
       "    </tr>\n",
       "    <tr>\n",
       "      <th>3</th>\n",
       "      <td>-0.604039</td>\n",
       "      <td>1.481287</td>\n",
       "      <td>-1.567697</td>\n",
       "      <td>-0.611423</td>\n",
       "      <td>-0.221993</td>\n",
       "    </tr>\n",
       "    <tr>\n",
       "      <th>4</th>\n",
       "      <td>-0.990450</td>\n",
       "      <td>-1.144500</td>\n",
       "      <td>1.019784</td>\n",
       "      <td>0.215147</td>\n",
       "      <td>-1.197047</td>\n",
       "    </tr>\n",
       "    <tr>\n",
       "      <th>...</th>\n",
       "      <td>...</td>\n",
       "      <td>...</td>\n",
       "      <td>...</td>\n",
       "      <td>...</td>\n",
       "      <td>...</td>\n",
       "    </tr>\n",
       "    <tr>\n",
       "      <th>4995</th>\n",
       "      <td>-0.923148</td>\n",
       "      <td>1.549438</td>\n",
       "      <td>-1.021516</td>\n",
       "      <td>-0.440997</td>\n",
       "      <td>-1.546480</td>\n",
       "    </tr>\n",
       "    <tr>\n",
       "      <th>4996</th>\n",
       "      <td>1.136230</td>\n",
       "      <td>1.250089</td>\n",
       "      <td>-0.494522</td>\n",
       "      <td>0.036199</td>\n",
       "      <td>-1.287491</td>\n",
       "    </tr>\n",
       "    <tr>\n",
       "      <th>4997</th>\n",
       "      <td>-0.598817</td>\n",
       "      <td>1.549438</td>\n",
       "      <td>-1.567697</td>\n",
       "      <td>-1.420951</td>\n",
       "      <td>-0.349951</td>\n",
       "    </tr>\n",
       "    <tr>\n",
       "      <th>4998</th>\n",
       "      <td>-0.069057</td>\n",
       "      <td>-0.540731</td>\n",
       "      <td>0.169165</td>\n",
       "      <td>1.246230</td>\n",
       "      <td>0.797087</td>\n",
       "    </tr>\n",
       "    <tr>\n",
       "      <th>4999</th>\n",
       "      <td>-0.355243</td>\n",
       "      <td>0.019125</td>\n",
       "      <td>-0.235978</td>\n",
       "      <td>0.078805</td>\n",
       "      <td>1.272064</td>\n",
       "    </tr>\n",
       "  </tbody>\n",
       "</table>\n",
       "<p>5000 rows × 5 columns</p>\n",
       "</div>"
      ],
      "text/plain": [
       "      Avg. Area Income  Avg. Area House Age  Avg. Area Number of Rooms  \\\n",
       "0             1.257355            -0.359206                   0.024099   \n",
       "1             1.223251             0.032077                  -0.309755   \n",
       "2            -0.840522            -0.135433                   1.541294   \n",
       "3            -0.604039             1.481287                  -1.567697   \n",
       "4            -0.990450            -1.144500                   1.019784   \n",
       "...                ...                  ...                        ...   \n",
       "4995         -0.923148             1.549438                  -1.021516   \n",
       "4996          1.136230             1.250089                  -0.494522   \n",
       "4997         -0.598817             1.549438                  -1.567697   \n",
       "4998         -0.069057            -0.540731                   0.169165   \n",
       "4999         -0.355243             0.019125                  -0.235978   \n",
       "\n",
       "      Avg. Area Number of Bedrooms  Area Population  \n",
       "0                         0.095848        -1.546480  \n",
       "1                        -0.756286         0.496518  \n",
       "2                         0.982068         0.093205  \n",
       "3                        -0.611423        -0.221993  \n",
       "4                         0.215147        -1.197047  \n",
       "...                            ...              ...  \n",
       "4995                     -0.440997        -1.546480  \n",
       "4996                      0.036199        -1.287491  \n",
       "4997                     -1.420951        -0.349951  \n",
       "4998                      1.246230         0.797087  \n",
       "4999                      0.078805         1.272064  \n",
       "\n",
       "[5000 rows x 5 columns]"
      ]
     },
     "execution_count": 152,
     "metadata": {},
     "output_type": "execute_result"
    }
   ],
   "source": [
    "z_score_data = (df_o - np.mean(df_o)) / (np.std(df_o))\n",
    "z_score_data"
   ]
  },
  {
   "cell_type": "code",
   "execution_count": 142,
   "id": "cf89b4bd",
   "metadata": {},
   "outputs": [
    {
     "data": {
      "text/plain": [
       "Avg. Area Income                9.041656e-17\n",
       "Avg. Area House Age             4.192202e-16\n",
       "Avg. Area Number of Rooms       1.989520e-16\n",
       "Avg. Area Number of Bedrooms    2.202682e-16\n",
       "Area Population                -1.790568e-16\n",
       "dtype: float64"
      ]
     },
     "execution_count": 142,
     "metadata": {},
     "output_type": "execute_result"
    }
   ],
   "source": [
    "np.mean(z_score_data)"
   ]
  },
  {
   "cell_type": "markdown",
   "id": "8ce66186",
   "metadata": {},
   "source": [
    "### Using libarry standariszation"
   ]
  },
  {
   "cell_type": "code",
   "execution_count": 165,
   "id": "5a74e16c",
   "metadata": {},
   "outputs": [
    {
     "data": {
      "text/plain": [
       "0    1.548709\n",
       "1    1.549438\n",
       "2    1.541294\n",
       "3    1.808638\n",
       "4    1.555449\n",
       "dtype: float64"
      ]
     },
     "execution_count": 165,
     "metadata": {},
     "output_type": "execute_result"
    }
   ],
   "source": [
    "from sklearn.preprocessing import StandardScaler\n",
    "\n",
    "# Create a StandardScaler object\n",
    "scaler = StandardScaler()\n",
    "\n",
    "# Fit the scaler to the data\n",
    "scaler.fit(df_o)\n",
    "\n",
    "# Transform the data using the fitted scaler\n",
    "standardized_data = scaler.transform(df_o)\n",
    "standardized_data_df = pd.DataFrame(standardized_data)\n",
    "standardized_data_df.max()"
   ]
  },
  {
   "cell_type": "code",
   "execution_count": 158,
   "id": "1a2cba74",
   "metadata": {},
   "outputs": [
    {
     "data": {
      "text/plain": [
       "Avg. Area Income                1.548709\n",
       "Avg. Area House Age             1.549438\n",
       "Avg. Area Number of Rooms       1.541294\n",
       "Avg. Area Number of Bedrooms    1.808638\n",
       "Area Population                 1.555449\n",
       "dtype: float64"
      ]
     },
     "execution_count": 158,
     "metadata": {},
     "output_type": "execute_result"
    }
   ],
   "source": [
    "z_score_data.max()"
   ]
  },
  {
   "cell_type": "code",
   "execution_count": 162,
   "id": "b6ea5c42",
   "metadata": {},
   "outputs": [
    {
     "data": {
      "text/html": [
       "<div>\n",
       "<style scoped>\n",
       "    .dataframe tbody tr th:only-of-type {\n",
       "        vertical-align: middle;\n",
       "    }\n",
       "\n",
       "    .dataframe tbody tr th {\n",
       "        vertical-align: top;\n",
       "    }\n",
       "\n",
       "    .dataframe thead th {\n",
       "        text-align: right;\n",
       "    }\n",
       "</style>\n",
       "<table border=\"1\" class=\"dataframe\">\n",
       "  <thead>\n",
       "    <tr style=\"text-align: right;\">\n",
       "      <th></th>\n",
       "      <th>Avg. Area Income</th>\n",
       "      <th>Avg. Area House Age</th>\n",
       "      <th>Avg. Area Number of Rooms</th>\n",
       "      <th>Avg. Area Number of Bedrooms</th>\n",
       "      <th>Area Population</th>\n",
       "    </tr>\n",
       "  </thead>\n",
       "  <tbody>\n",
       "    <tr>\n",
       "      <th>count</th>\n",
       "      <td>5000.000000</td>\n",
       "      <td>5000.000000</td>\n",
       "      <td>5000.000000</td>\n",
       "      <td>5000.000000</td>\n",
       "      <td>5000.000000</td>\n",
       "    </tr>\n",
       "    <tr>\n",
       "      <th>mean</th>\n",
       "      <td>68602.354940</td>\n",
       "      <td>5.976663</td>\n",
       "      <td>6.989094</td>\n",
       "      <td>3.977520</td>\n",
       "      <td>36121.639189</td>\n",
       "    </tr>\n",
       "    <tr>\n",
       "      <th>std</th>\n",
       "      <td>8704.140895</td>\n",
       "      <td>0.818001</td>\n",
       "      <td>0.833881</td>\n",
       "      <td>1.173641</td>\n",
       "      <td>8160.504124</td>\n",
       "    </tr>\n",
       "    <tr>\n",
       "      <th>min</th>\n",
       "      <td>55047.633980</td>\n",
       "      <td>4.697755</td>\n",
       "      <td>5.681951</td>\n",
       "      <td>2.310000</td>\n",
       "      <td>23502.845262</td>\n",
       "    </tr>\n",
       "    <tr>\n",
       "      <th>25%</th>\n",
       "      <td>61480.562388</td>\n",
       "      <td>5.322283</td>\n",
       "      <td>6.299250</td>\n",
       "      <td>3.140000</td>\n",
       "      <td>29403.928702</td>\n",
       "    </tr>\n",
       "    <tr>\n",
       "      <th>50%</th>\n",
       "      <td>68804.286404</td>\n",
       "      <td>5.970429</td>\n",
       "      <td>7.002902</td>\n",
       "      <td>4.050000</td>\n",
       "      <td>36199.406689</td>\n",
       "    </tr>\n",
       "    <tr>\n",
       "      <th>75%</th>\n",
       "      <td>75783.338666</td>\n",
       "      <td>6.650808</td>\n",
       "      <td>7.665871</td>\n",
       "      <td>4.490000</td>\n",
       "      <td>42861.290769</td>\n",
       "    </tr>\n",
       "    <tr>\n",
       "      <th>max</th>\n",
       "      <td>82081.188283</td>\n",
       "      <td>7.243978</td>\n",
       "      <td>8.274222</td>\n",
       "      <td>6.100000</td>\n",
       "      <td>48813.618633</td>\n",
       "    </tr>\n",
       "  </tbody>\n",
       "</table>\n",
       "</div>"
      ],
      "text/plain": [
       "       Avg. Area Income  Avg. Area House Age  Avg. Area Number of Rooms  \\\n",
       "count       5000.000000          5000.000000                5000.000000   \n",
       "mean       68602.354940             5.976663                   6.989094   \n",
       "std         8704.140895             0.818001                   0.833881   \n",
       "min        55047.633980             4.697755                   5.681951   \n",
       "25%        61480.562388             5.322283                   6.299250   \n",
       "50%        68804.286404             5.970429                   7.002902   \n",
       "75%        75783.338666             6.650808                   7.665871   \n",
       "max        82081.188283             7.243978                   8.274222   \n",
       "\n",
       "       Avg. Area Number of Bedrooms  Area Population  \n",
       "count                   5000.000000      5000.000000  \n",
       "mean                       3.977520     36121.639189  \n",
       "std                        1.173641      8160.504124  \n",
       "min                        2.310000     23502.845262  \n",
       "25%                        3.140000     29403.928702  \n",
       "50%                        4.050000     36199.406689  \n",
       "75%                        4.490000     42861.290769  \n",
       "max                        6.100000     48813.618633  "
      ]
     },
     "execution_count": 162,
     "metadata": {},
     "output_type": "execute_result"
    }
   ],
   "source": [
    "df_o.describe()"
   ]
  },
  {
   "cell_type": "markdown",
   "id": "e882e0c5",
   "metadata": {},
   "source": [
    "### Normalize between 0 and 1: Use the formula zi = (xi – min(x)) / (max(x) – min(x)).\n",
    "### Normalize between 0 and 100: Use the formula zi = (xi – min(x)) / (max(x) – min(x)) * 100.\n",
    "### Put data within a custom range: Use the formula xnormalized = a + ( ((x - xminimum) * (b - a)) / range of x).\n",
    "### Normalization factor: Use the formula Normalization = X - X minimum / X maximum - X minimum"
   ]
  },
  {
   "cell_type": "code",
   "execution_count": 121,
   "id": "36343424",
   "metadata": {},
   "outputs": [
    {
     "data": {
      "text/html": [
       "<div>\n",
       "<style scoped>\n",
       "    .dataframe tbody tr th:only-of-type {\n",
       "        vertical-align: middle;\n",
       "    }\n",
       "\n",
       "    .dataframe tbody tr th {\n",
       "        vertical-align: top;\n",
       "    }\n",
       "\n",
       "    .dataframe thead th {\n",
       "        text-align: right;\n",
       "    }\n",
       "</style>\n",
       "<table border=\"1\" class=\"dataframe\">\n",
       "  <thead>\n",
       "    <tr style=\"text-align: right;\">\n",
       "      <th></th>\n",
       "      <th>Avg. Area Income</th>\n",
       "      <th>Avg. Area House Age</th>\n",
       "      <th>Avg. Area Number of Rooms</th>\n",
       "      <th>Avg. Area Number of Bedrooms</th>\n",
       "      <th>Area Population</th>\n",
       "    </tr>\n",
       "  </thead>\n",
       "  <tbody>\n",
       "    <tr>\n",
       "      <th>0</th>\n",
       "      <td>0.906201</td>\n",
       "      <td>0.386889</td>\n",
       "      <td>0.511998</td>\n",
       "      <td>0.469657</td>\n",
       "      <td>0.000000</td>\n",
       "    </tr>\n",
       "    <tr>\n",
       "      <th>1</th>\n",
       "      <td>0.895221</td>\n",
       "      <td>0.512581</td>\n",
       "      <td>0.404614</td>\n",
       "      <td>0.205805</td>\n",
       "      <td>0.658622</td>\n",
       "    </tr>\n",
       "    <tr>\n",
       "      <th>2</th>\n",
       "      <td>0.230803</td>\n",
       "      <td>0.458772</td>\n",
       "      <td>1.000000</td>\n",
       "      <td>0.744063</td>\n",
       "      <td>0.528602</td>\n",
       "    </tr>\n",
       "    <tr>\n",
       "      <th>3</th>\n",
       "      <td>0.306937</td>\n",
       "      <td>0.978108</td>\n",
       "      <td>0.000000</td>\n",
       "      <td>0.250660</td>\n",
       "      <td>0.426988</td>\n",
       "    </tr>\n",
       "    <tr>\n",
       "      <th>4</th>\n",
       "      <td>0.182535</td>\n",
       "      <td>0.134631</td>\n",
       "      <td>0.832258</td>\n",
       "      <td>0.506596</td>\n",
       "      <td>0.112650</td>\n",
       "    </tr>\n",
       "    <tr>\n",
       "      <th>...</th>\n",
       "      <td>...</td>\n",
       "      <td>...</td>\n",
       "      <td>...</td>\n",
       "      <td>...</td>\n",
       "      <td>...</td>\n",
       "    </tr>\n",
       "    <tr>\n",
       "      <th>4995</th>\n",
       "      <td>0.204202</td>\n",
       "      <td>1.000000</td>\n",
       "      <td>0.175678</td>\n",
       "      <td>0.303430</td>\n",
       "      <td>0.000000</td>\n",
       "    </tr>\n",
       "    <tr>\n",
       "      <th>4996</th>\n",
       "      <td>0.867205</td>\n",
       "      <td>0.903841</td>\n",
       "      <td>0.345184</td>\n",
       "      <td>0.451187</td>\n",
       "      <td>0.083493</td>\n",
       "    </tr>\n",
       "    <tr>\n",
       "      <th>4997</th>\n",
       "      <td>0.308618</td>\n",
       "      <td>1.000000</td>\n",
       "      <td>0.000000</td>\n",
       "      <td>0.000000</td>\n",
       "      <td>0.385737</td>\n",
       "    </tr>\n",
       "    <tr>\n",
       "      <th>4998</th>\n",
       "      <td>0.479171</td>\n",
       "      <td>0.328578</td>\n",
       "      <td>0.558658</td>\n",
       "      <td>0.825858</td>\n",
       "      <td>0.755519</td>\n",
       "    </tr>\n",
       "    <tr>\n",
       "      <th>4999</th>\n",
       "      <td>0.387036</td>\n",
       "      <td>0.508420</td>\n",
       "      <td>0.428345</td>\n",
       "      <td>0.464380</td>\n",
       "      <td>0.908642</td>\n",
       "    </tr>\n",
       "  </tbody>\n",
       "</table>\n",
       "<p>5000 rows × 5 columns</p>\n",
       "</div>"
      ],
      "text/plain": [
       "      Avg. Area Income  Avg. Area House Age  Avg. Area Number of Rooms  \\\n",
       "0             0.906201             0.386889                   0.511998   \n",
       "1             0.895221             0.512581                   0.404614   \n",
       "2             0.230803             0.458772                   1.000000   \n",
       "3             0.306937             0.978108                   0.000000   \n",
       "4             0.182535             0.134631                   0.832258   \n",
       "...                ...                  ...                        ...   \n",
       "4995          0.204202             1.000000                   0.175678   \n",
       "4996          0.867205             0.903841                   0.345184   \n",
       "4997          0.308618             1.000000                   0.000000   \n",
       "4998          0.479171             0.328578                   0.558658   \n",
       "4999          0.387036             0.508420                   0.428345   \n",
       "\n",
       "      Avg. Area Number of Bedrooms  Area Population  \n",
       "0                         0.469657         0.000000  \n",
       "1                         0.205805         0.658622  \n",
       "2                         0.744063         0.528602  \n",
       "3                         0.250660         0.426988  \n",
       "4                         0.506596         0.112650  \n",
       "...                            ...              ...  \n",
       "4995                      0.303430         0.000000  \n",
       "4996                      0.451187         0.083493  \n",
       "4997                      0.000000         0.385737  \n",
       "4998                      0.825858         0.755519  \n",
       "4999                      0.464380         0.908642  \n",
       "\n",
       "[5000 rows x 5 columns]"
      ]
     },
     "execution_count": 121,
     "metadata": {},
     "output_type": "execute_result"
    }
   ],
   "source": [
    "norm_data = (df_o - df_o.min())/(df_o.max() - df_o.min())\n",
    "norm_data"
   ]
  },
  {
   "cell_type": "code",
   "execution_count": 20,
   "id": "f2f41a06",
   "metadata": {},
   "outputs": [
    {
     "data": {
      "text/plain": [
       "<Axes: xlabel='Avg. Area Income', ylabel='Count'>"
      ]
     },
     "execution_count": 20,
     "metadata": {},
     "output_type": "execute_result"
    },
    {
     "data": {
      "image/png": "[encoded data removed]",
      "text/plain": [
       "<Figure size 640x480 with 1 Axes>"
      ]
     },
     "metadata": {},
     "output_type": "display_data"
    }
   ],
   "source": [
    "# fig = plt.figure(2,3)\n",
    "sns.histplot(df['Avg. Area Income'], kde=True)"
   ]
  },
  {
   "cell_type": "code",
   "execution_count": 166,
   "id": "e1aadf9e",
   "metadata": {},
   "outputs": [
    {
     "data": {
      "text/html": [
       "<div>\n",
       "<style scoped>\n",
       "    .dataframe tbody tr th:only-of-type {\n",
       "        vertical-align: middle;\n",
       "    }\n",
       "\n",
       "    .dataframe tbody tr th {\n",
       "        vertical-align: top;\n",
       "    }\n",
       "\n",
       "    .dataframe thead th {\n",
       "        text-align: right;\n",
       "    }\n",
       "</style>\n",
       "<table border=\"1\" class=\"dataframe\">\n",
       "  <thead>\n",
       "    <tr style=\"text-align: right;\">\n",
       "      <th></th>\n",
       "      <th>Avg. Area Income</th>\n",
       "      <th>Avg. Area House Age</th>\n",
       "      <th>Avg. Area Number of Rooms</th>\n",
       "      <th>Avg. Area Number of Bedrooms</th>\n",
       "      <th>Area Population</th>\n",
       "    </tr>\n",
       "  </thead>\n",
       "  <tbody>\n",
       "    <tr>\n",
       "      <th>0</th>\n",
       "      <td>1.257355</td>\n",
       "      <td>-0.359206</td>\n",
       "      <td>0.024099</td>\n",
       "      <td>0.095848</td>\n",
       "      <td>-1.546480</td>\n",
       "    </tr>\n",
       "    <tr>\n",
       "      <th>1</th>\n",
       "      <td>1.223251</td>\n",
       "      <td>0.032077</td>\n",
       "      <td>-0.309755</td>\n",
       "      <td>-0.756286</td>\n",
       "      <td>0.496518</td>\n",
       "    </tr>\n",
       "    <tr>\n",
       "      <th>2</th>\n",
       "      <td>-0.840522</td>\n",
       "      <td>-0.135433</td>\n",
       "      <td>1.541294</td>\n",
       "      <td>0.982068</td>\n",
       "      <td>0.093205</td>\n",
       "    </tr>\n",
       "    <tr>\n",
       "      <th>3</th>\n",
       "      <td>-0.604039</td>\n",
       "      <td>1.481287</td>\n",
       "      <td>-1.567697</td>\n",
       "      <td>-0.611423</td>\n",
       "      <td>-0.221993</td>\n",
       "    </tr>\n",
       "    <tr>\n",
       "      <th>4</th>\n",
       "      <td>-0.990450</td>\n",
       "      <td>-1.144500</td>\n",
       "      <td>1.019784</td>\n",
       "      <td>0.215147</td>\n",
       "      <td>-1.197047</td>\n",
       "    </tr>\n",
       "    <tr>\n",
       "      <th>...</th>\n",
       "      <td>...</td>\n",
       "      <td>...</td>\n",
       "      <td>...</td>\n",
       "      <td>...</td>\n",
       "      <td>...</td>\n",
       "    </tr>\n",
       "    <tr>\n",
       "      <th>4995</th>\n",
       "      <td>-0.923148</td>\n",
       "      <td>1.549438</td>\n",
       "      <td>-1.021516</td>\n",
       "      <td>-0.440997</td>\n",
       "      <td>-1.546480</td>\n",
       "    </tr>\n",
       "    <tr>\n",
       "      <th>4996</th>\n",
       "      <td>1.136230</td>\n",
       "      <td>1.250089</td>\n",
       "      <td>-0.494522</td>\n",
       "      <td>0.036199</td>\n",
       "      <td>-1.287491</td>\n",
       "    </tr>\n",
       "    <tr>\n",
       "      <th>4997</th>\n",
       "      <td>-0.598817</td>\n",
       "      <td>1.549438</td>\n",
       "      <td>-1.567697</td>\n",
       "      <td>-1.420951</td>\n",
       "      <td>-0.349951</td>\n",
       "    </tr>\n",
       "    <tr>\n",
       "      <th>4998</th>\n",
       "      <td>-0.069057</td>\n",
       "      <td>-0.540731</td>\n",
       "      <td>0.169165</td>\n",
       "      <td>1.246230</td>\n",
       "      <td>0.797087</td>\n",
       "    </tr>\n",
       "    <tr>\n",
       "      <th>4999</th>\n",
       "      <td>-0.355243</td>\n",
       "      <td>0.019125</td>\n",
       "      <td>-0.235978</td>\n",
       "      <td>0.078805</td>\n",
       "      <td>1.272064</td>\n",
       "    </tr>\n",
       "  </tbody>\n",
       "</table>\n",
       "<p>5000 rows × 5 columns</p>\n",
       "</div>"
      ],
      "text/plain": [
       "      Avg. Area Income  Avg. Area House Age  Avg. Area Number of Rooms  \\\n",
       "0             1.257355            -0.359206                   0.024099   \n",
       "1             1.223251             0.032077                  -0.309755   \n",
       "2            -0.840522            -0.135433                   1.541294   \n",
       "3            -0.604039             1.481287                  -1.567697   \n",
       "4            -0.990450            -1.144500                   1.019784   \n",
       "...                ...                  ...                        ...   \n",
       "4995         -0.923148             1.549438                  -1.021516   \n",
       "4996          1.136230             1.250089                  -0.494522   \n",
       "4997         -0.598817             1.549438                  -1.567697   \n",
       "4998         -0.069057            -0.540731                   0.169165   \n",
       "4999         -0.355243             0.019125                  -0.235978   \n",
       "\n",
       "      Avg. Area Number of Bedrooms  Area Population  \n",
       "0                         0.095848        -1.546480  \n",
       "1                        -0.756286         0.496518  \n",
       "2                         0.982068         0.093205  \n",
       "3                        -0.611423        -0.221993  \n",
       "4                         0.215147        -1.197047  \n",
       "...                            ...              ...  \n",
       "4995                     -0.440997        -1.546480  \n",
       "4996                      0.036199        -1.287491  \n",
       "4997                     -1.420951        -0.349951  \n",
       "4998                      1.246230         0.797087  \n",
       "4999                      0.078805         1.272064  \n",
       "\n",
       "[5000 rows x 5 columns]"
      ]
     },
     "execution_count": 166,
     "metadata": {},
     "output_type": "execute_result"
    }
   ],
   "source": [
    "z_score_data"
   ]
  },
  {
   "cell_type": "markdown",
   "id": "7a87b5d5",
   "metadata": {},
   "source": [
    "#### We should also scale the target variable price"
   ]
  },
  {
   "cell_type": "code",
   "execution_count": 186,
   "id": "91bb9c52",
   "metadata": {},
   "outputs": [
    {
     "data": {
      "text/html": [
       "<div>\n",
       "<style scoped>\n",
       "    .dataframe tbody tr th:only-of-type {\n",
       "        vertical-align: middle;\n",
       "    }\n",
       "\n",
       "    .dataframe tbody tr th {\n",
       "        vertical-align: top;\n",
       "    }\n",
       "\n",
       "    .dataframe thead th {\n",
       "        text-align: right;\n",
       "    }\n",
       "</style>\n",
       "<table border=\"1\" class=\"dataframe\">\n",
       "  <thead>\n",
       "    <tr style=\"text-align: right;\">\n",
       "      <th></th>\n",
       "      <th>Avg. Area Income</th>\n",
       "      <th>Avg. Area House Age</th>\n",
       "      <th>Avg. Area Number of Rooms</th>\n",
       "      <th>Avg. Area Number of Bedrooms</th>\n",
       "      <th>Area Population</th>\n",
       "      <th>Price</th>\n",
       "    </tr>\n",
       "  </thead>\n",
       "  <tbody>\n",
       "    <tr>\n",
       "      <th>0</th>\n",
       "      <td>1.257355</td>\n",
       "      <td>-0.359206</td>\n",
       "      <td>0.024099</td>\n",
       "      <td>0.095848</td>\n",
       "      <td>-1.546480</td>\n",
       "      <td>-0.490081</td>\n",
       "    </tr>\n",
       "    <tr>\n",
       "      <th>1</th>\n",
       "      <td>1.223251</td>\n",
       "      <td>0.032077</td>\n",
       "      <td>-0.309755</td>\n",
       "      <td>-0.756286</td>\n",
       "      <td>0.496518</td>\n",
       "      <td>0.775508</td>\n",
       "    </tr>\n",
       "    <tr>\n",
       "      <th>2</th>\n",
       "      <td>-0.840522</td>\n",
       "      <td>-0.135433</td>\n",
       "      <td>1.541294</td>\n",
       "      <td>0.982068</td>\n",
       "      <td>0.093205</td>\n",
       "      <td>-0.490211</td>\n",
       "    </tr>\n",
       "    <tr>\n",
       "      <th>3</th>\n",
       "      <td>-0.604039</td>\n",
       "      <td>1.481287</td>\n",
       "      <td>-1.567697</td>\n",
       "      <td>-0.611423</td>\n",
       "      <td>-0.221993</td>\n",
       "      <td>0.080843</td>\n",
       "    </tr>\n",
       "    <tr>\n",
       "      <th>4</th>\n",
       "      <td>-0.990450</td>\n",
       "      <td>-1.144500</td>\n",
       "      <td>1.019784</td>\n",
       "      <td>0.215147</td>\n",
       "      <td>-1.197047</td>\n",
       "      <td>-1.702518</td>\n",
       "    </tr>\n",
       "    <tr>\n",
       "      <th>...</th>\n",
       "      <td>...</td>\n",
       "      <td>...</td>\n",
       "      <td>...</td>\n",
       "      <td>...</td>\n",
       "      <td>...</td>\n",
       "      <td>...</td>\n",
       "    </tr>\n",
       "    <tr>\n",
       "      <th>4995</th>\n",
       "      <td>-0.923148</td>\n",
       "      <td>1.549438</td>\n",
       "      <td>-1.021516</td>\n",
       "      <td>-0.440997</td>\n",
       "      <td>-1.546480</td>\n",
       "      <td>-0.486795</td>\n",
       "    </tr>\n",
       "    <tr>\n",
       "      <th>4996</th>\n",
       "      <td>1.136230</td>\n",
       "      <td>1.250089</td>\n",
       "      <td>-0.494522</td>\n",
       "      <td>0.036199</td>\n",
       "      <td>-1.287491</td>\n",
       "      <td>0.709594</td>\n",
       "    </tr>\n",
       "    <tr>\n",
       "      <th>4997</th>\n",
       "      <td>-0.598817</td>\n",
       "      <td>1.549438</td>\n",
       "      <td>-1.567697</td>\n",
       "      <td>-1.420951</td>\n",
       "      <td>-0.349951</td>\n",
       "      <td>-0.570244</td>\n",
       "    </tr>\n",
       "    <tr>\n",
       "      <th>4998</th>\n",
       "      <td>-0.069057</td>\n",
       "      <td>-0.540731</td>\n",
       "      <td>0.169165</td>\n",
       "      <td>1.246230</td>\n",
       "      <td>0.797087</td>\n",
       "      <td>-0.094640</td>\n",
       "    </tr>\n",
       "    <tr>\n",
       "      <th>4999</th>\n",
       "      <td>-0.355243</td>\n",
       "      <td>0.019125</td>\n",
       "      <td>-0.235978</td>\n",
       "      <td>0.078805</td>\n",
       "      <td>1.272064</td>\n",
       "      <td>0.189411</td>\n",
       "    </tr>\n",
       "  </tbody>\n",
       "</table>\n",
       "<p>5000 rows × 6 columns</p>\n",
       "</div>"
      ],
      "text/plain": [
       "      Avg. Area Income  Avg. Area House Age  Avg. Area Number of Rooms  \\\n",
       "0             1.257355            -0.359206                   0.024099   \n",
       "1             1.223251             0.032077                  -0.309755   \n",
       "2            -0.840522            -0.135433                   1.541294   \n",
       "3            -0.604039             1.481287                  -1.567697   \n",
       "4            -0.990450            -1.144500                   1.019784   \n",
       "...                ...                  ...                        ...   \n",
       "4995         -0.923148             1.549438                  -1.021516   \n",
       "4996          1.136230             1.250089                  -0.494522   \n",
       "4997         -0.598817             1.549438                  -1.567697   \n",
       "4998         -0.069057            -0.540731                   0.169165   \n",
       "4999         -0.355243             0.019125                  -0.235978   \n",
       "\n",
       "      Avg. Area Number of Bedrooms  Area Population     Price  \n",
       "0                         0.095848        -1.546480 -0.490081  \n",
       "1                        -0.756286         0.496518  0.775508  \n",
       "2                         0.982068         0.093205 -0.490211  \n",
       "3                        -0.611423        -0.221993  0.080843  \n",
       "4                         0.215147        -1.197047 -1.702518  \n",
       "...                            ...              ...       ...  \n",
       "4995                     -0.440997        -1.546480 -0.486795  \n",
       "4996                      0.036199        -1.287491  0.709594  \n",
       "4997                     -1.420951        -0.349951 -0.570244  \n",
       "4998                      1.246230         0.797087 -0.094640  \n",
       "4999                      0.078805         1.272064  0.189411  \n",
       "\n",
       "[5000 rows x 6 columns]"
      ]
     },
     "execution_count": 186,
     "metadata": {},
     "output_type": "execute_result"
    }
   ],
   "source": [
    "from sklearn.preprocessing import StandardScaler\n",
    "\n",
    "# Create a StandardScaler object\n",
    "scaler = StandardScaler()\n",
    "\n",
    "# Fit the scaler to the data\n",
    "scaler.fit(df[['Price']])\n",
    "\n",
    "# Transform the data using the fitted scaler\n",
    "z_score_data['Price'] = scaler.transform(df[['Price']])\n",
    "z_score_data"
   ]
  },
  {
   "cell_type": "code",
   "execution_count": 312,
   "id": "7e639f26",
   "metadata": {},
   "outputs": [
    {
     "data": {
      "image/png": "[encoded data removed]",
      "text/plain": [
       "<Figure size 640x480 with 2 Axes>"
      ]
     },
     "metadata": {},
     "output_type": "display_data"
    }
   ],
   "source": [
    "sns.heatmap(z_score_data.corr(), annot=True, cmap='coolwarm')\n",
    "plt.show()"
   ]
  },
  {
   "cell_type": "code",
   "execution_count": 23,
   "id": "418a6d96",
   "metadata": {},
   "outputs": [],
   "source": [
    "from sklearn.model_selection import train_test_split"
   ]
  },
  {
   "cell_type": "code",
   "execution_count": 362,
   "id": "345f0e83",
   "metadata": {},
   "outputs": [],
   "source": [
    "x = z_score_data[['Avg. Area Income', 'Avg. Area House Age','Avg. Area Number of Rooms','Area Population']]\n",
    "y = z_score_data[['Price']]"
   ]
  },
  {
   "cell_type": "code",
   "execution_count": 363,
   "id": "898c7ffe",
   "metadata": {},
   "outputs": [],
   "source": [
    "X_train, X_test, y_train, y_test = train_test_split(x, y, test_size=0.33, random_state=43)"
   ]
  },
  {
   "cell_type": "code",
   "execution_count": 364,
   "id": "f7b494ac",
   "metadata": {},
   "outputs": [],
   "source": [
    "from sklearn.linear_model import LinearRegression"
   ]
  },
  {
   "cell_type": "code",
   "execution_count": 365,
   "id": "726770dd",
   "metadata": {},
   "outputs": [],
   "source": [
    "model = LinearRegression()"
   ]
  },
  {
   "cell_type": "code",
   "execution_count": 366,
   "id": "5dfceb30",
   "metadata": {},
   "outputs": [
    {
     "data": {
      "text/html": [
       "<style>#sk-container-id-15 {color: black;}#sk-container-id-15 pre{padding: 0;}#sk-container-id-15 div.sk-toggleable {background-color: white;}#sk-container-id-15 label.sk-toggleable__label {cursor: pointer;display: block;width: 100%;margin-bottom: 0;padding: 0.3em;box-sizing: border-box;text-align: center;}#sk-container-id-15 label.sk-toggleable__label-arrow:before {content: \"▸\";float: left;margin-right: 0.25em;color: #696969;}#sk-container-id-15 label.sk-toggleable__label-arrow:hover:before {color: black;}#sk-container-id-15 div.sk-estimator:hover label.sk-toggleable__label-arrow:before {color: black;}#sk-container-id-15 div.sk-toggleable__content {max-height: 0;max-width: 0;overflow: hidden;text-align: left;background-color: #f0f8ff;}#sk-container-id-15 div.sk-toggleable__content pre {margin: 0.2em;color: black;border-radius: 0.25em;background-color: #f0f8ff;}#sk-container-id-15 input.sk-toggleable__control:checked~div.sk-toggleable__content {max-height: 200px;max-width: 100%;overflow: auto;}#sk-container-id-15 input.sk-toggleable__control:checked~label.sk-toggleable__label-arrow:before {content: \"▾\";}#sk-container-id-15 div.sk-estimator input.sk-toggleable__control:checked~label.sk-toggleable__label {background-color: #d4ebff;}#sk-container-id-15 div.sk-label input.sk-toggleable__control:checked~label.sk-toggleable__label {background-color: #d4ebff;}#sk-container-id-15 input.sk-hidden--visually {border: 0;clip: rect(1px 1px 1px 1px);clip: rect(1px, 1px, 1px, 1px);height: 1px;margin: -1px;overflow: hidden;padding: 0;position: absolute;width: 1px;}#sk-container-id-15 div.sk-estimator {font-family: monospace;background-color: #f0f8ff;border: 1px dotted black;border-radius: 0.25em;box-sizing: border-box;margin-bottom: 0.5em;}#sk-container-id-15 div.sk-estimator:hover {background-color: #d4ebff;}#sk-container-id-15 div.sk-parallel-item::after {content: \"\";width: 100%;border-bottom: 1px solid gray;flex-grow: 1;}#sk-container-id-15 div.sk-label:hover label.sk-toggleable__label {background-color: #d4ebff;}#sk-container-id-15 div.sk-serial::before {content: \"\";position: absolute;border-left: 1px solid gray;box-sizing: border-box;top: 0;bottom: 0;left: 50%;z-index: 0;}#sk-container-id-15 div.sk-serial {display: flex;flex-direction: column;align-items: center;background-color: white;padding-right: 0.2em;padding-left: 0.2em;position: relative;}#sk-container-id-15 div.sk-item {position: relative;z-index: 1;}#sk-container-id-15 div.sk-parallel {display: flex;align-items: stretch;justify-content: center;background-color: white;position: relative;}#sk-container-id-15 div.sk-item::before, #sk-container-id-15 div.sk-parallel-item::before {content: \"\";position: absolute;border-left: 1px solid gray;box-sizing: border-box;top: 0;bottom: 0;left: 50%;z-index: -1;}#sk-container-id-15 div.sk-parallel-item {display: flex;flex-direction: column;z-index: 1;position: relative;background-color: white;}#sk-container-id-15 div.sk-parallel-item:first-child::after {align-self: flex-end;width: 50%;}#sk-container-id-15 div.sk-parallel-item:last-child::after {align-self: flex-start;width: 50%;}#sk-container-id-15 div.sk-parallel-item:only-child::after {width: 0;}#sk-container-id-15 div.sk-dashed-wrapped {border: 1px dashed gray;margin: 0 0.4em 0.5em 0.4em;box-sizing: border-box;padding-bottom: 0.4em;background-color: white;}#sk-container-id-15 div.sk-label label {font-family: monospace;font-weight: bold;display: inline-block;line-height: 1.2em;}#sk-container-id-15 div.sk-label-container {text-align: center;}#sk-container-id-15 div.sk-container {/* jupyter's `normalize.less` sets `[hidden] { display: none; }` but bootstrap.min.css set `[hidden] { display: none !important; }` so we also need the `!important` here to be able to override the default hidden behavior on the sphinx rendered scikit-learn.org. See: https://github.com/scikit-learn/scikit-learn/issues/21755 */display: inline-block !important;position: relative;}#sk-container-id-15 div.sk-text-repr-fallback {display: none;}</style><div id=\"sk-container-id-15\" class=\"sk-top-container\"><div class=\"sk-text-repr-fallback\"><pre>LinearRegression()</pre><b>In a Jupyter environment, please rerun this cell to show the HTML representation or trust the notebook. <br />On GitHub, the HTML representation is unable to render, please try loading this page with nbviewer.org.</b></div><div class=\"sk-container\" hidden><div class=\"sk-item\"><div class=\"sk-estimator sk-toggleable\"><input class=\"sk-toggleable__control sk-hidden--visually\" id=\"sk-estimator-id-15\" type=\"checkbox\" checked><label for=\"sk-estimator-id-15\" class=\"sk-toggleable__label sk-toggleable__label-arrow\">LinearRegression</label><div class=\"sk-toggleable__content\"><pre>LinearRegression()</pre></div></div></div></div></div>"
      ],
      "text/plain": [
       "LinearRegression()"
      ]
     },
     "execution_count": 366,
     "metadata": {},
     "output_type": "execute_result"
    }
   ],
   "source": [
    "model.fit(X_train, y_train)"
   ]
  },
  {
   "cell_type": "code",
   "execution_count": 367,
   "id": "b1f6ec27",
   "metadata": {},
   "outputs": [],
   "source": [
    "y_pred = model.predict(X_test)"
   ]
  },
  {
   "cell_type": "code",
   "execution_count": 368,
   "id": "26cb715c",
   "metadata": {},
   "outputs": [],
   "source": [
    "from sklearn.metrics import r2_score, mean_absolute_error, mean_squared_error"
   ]
  },
  {
   "cell_type": "code",
   "execution_count": 369,
   "id": "c67f6afe",
   "metadata": {},
   "outputs": [
    {
     "data": {
      "text/plain": [
       "0.8652194698738487"
      ]
     },
     "execution_count": 369,
     "metadata": {},
     "output_type": "execute_result"
    }
   ],
   "source": [
    "r2_score(y_test, y_pred)"
   ]
  },
  {
   "cell_type": "code",
   "execution_count": 370,
   "id": "ff5e7925",
   "metadata": {},
   "outputs": [
    {
     "data": {
      "text/plain": [
       "0.289744597444624"
      ]
     },
     "execution_count": 370,
     "metadata": {},
     "output_type": "execute_result"
    }
   ],
   "source": [
    "mean_absolute_error(y_test, y_pred)"
   ]
  },
  {
   "cell_type": "code",
   "execution_count": 371,
   "id": "c3a9dd4c",
   "metadata": {},
   "outputs": [
    {
     "data": {
      "text/plain": [
       "0.13889863306031108"
      ]
     },
     "execution_count": 371,
     "metadata": {},
     "output_type": "execute_result"
    }
   ],
   "source": [
    "mean_squared_error(y_test, y_pred)"
   ]
  },
  {
   "cell_type": "code",
   "execution_count": null,
   "id": "5ceef745",
   "metadata": {},
   "outputs": [],
   "source": []
  },
  {
   "cell_type": "code",
   "execution_count": null,
   "id": "79228e87",
   "metadata": {},
   "outputs": [],
   "source": []
  },
  {
   "cell_type": "code",
   "execution_count": null,
   "id": "95b6ad56",
   "metadata": {},
   "outputs": [],
   "source": []
  },
  {
   "cell_type": "code",
   "execution_count": null,
   "id": "c11903d4",
   "metadata": {},
   "outputs": [],
   "source": []
  },
  {
   "cell_type": "code",
   "execution_count": null,
   "id": "756ce911",
   "metadata": {},
   "outputs": [],
   "source": []
  }
 ],
 "metadata": {
  "kernelspec": {
   "display_name": "Python 3 (ipykernel)",
   "language": "python",
   "name": "python3"
  },
  "language_info": {
   "codemirror_mode": {
    "name": "ipython",
    "version": 3
   },
   "file_extension": ".py",
   "mimetype": "text/x-python",
   "name": "python",
   "nbconvert_exporter": "python",
   "pygments_lexer": "ipython3",
   "version": "3.11.4"
  }
 },
 "nbformat": 4,
 "nbformat_minor": 5
}
