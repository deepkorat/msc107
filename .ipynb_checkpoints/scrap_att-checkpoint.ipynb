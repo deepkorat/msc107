{
 "cells": [
  {
   "cell_type": "code",
   "execution_count": null,
   "id": "63887ef0",
   "metadata": {},
   "outputs": [],
   "source": []
  },
  {
   "cell_type": "code",
   "execution_count": 1,
   "id": "36243d30",
   "metadata": {},
   "outputs": [
    {
     "ename": "ModuleNotFoundError",
     "evalue": "No module named 'selenium'",
     "output_type": "error",
     "traceback": [
      "\u001b[1;31m---------------------------------------------------------------------------\u001b[0m",
      "\u001b[1;31mModuleNotFoundError\u001b[0m                       Traceback (most recent call last)",
      "Cell \u001b[1;32mIn[1], line 4\u001b[0m\n\u001b[0;32m      2\u001b[0m \u001b[38;5;28;01mimport\u001b[39;00m \u001b[38;5;21;01mrequests\u001b[39;00m\n\u001b[0;32m      3\u001b[0m \u001b[38;5;28;01mfrom\u001b[39;00m \u001b[38;5;21;01mbs4\u001b[39;00m \u001b[38;5;28;01mimport\u001b[39;00m BeautifulSoup\n\u001b[1;32m----> 4\u001b[0m \u001b[38;5;28;01mfrom\u001b[39;00m \u001b[38;5;21;01mselenium\u001b[39;00m\u001b[38;5;21;01m.\u001b[39;00m\u001b[38;5;21;01mwebdriver\u001b[39;00m\u001b[38;5;21;01m.\u001b[39;00m\u001b[38;5;21;01msupport\u001b[39;00m\u001b[38;5;21;01m.\u001b[39;00m\u001b[38;5;21;01mui\u001b[39;00m \u001b[38;5;28;01mimport\u001b[39;00m Select\n\u001b[0;32m      5\u001b[0m \u001b[38;5;28;01mfrom\u001b[39;00m \u001b[38;5;21;01mselenium\u001b[39;00m \u001b[38;5;28;01mimport\u001b[39;00m webdriver\n\u001b[0;32m      6\u001b[0m \u001b[38;5;28;01mfrom\u001b[39;00m \u001b[38;5;21;01mselenium\u001b[39;00m\u001b[38;5;21;01m.\u001b[39;00m\u001b[38;5;21;01mwebdriver\u001b[39;00m\u001b[38;5;21;01m.\u001b[39;00m\u001b[38;5;21;01mcommon\u001b[39;00m\u001b[38;5;21;01m.\u001b[39;00m\u001b[38;5;21;01mkeys\u001b[39;00m \u001b[38;5;28;01mimport\u001b[39;00m Keys\n",
      "\u001b[1;31mModuleNotFoundError\u001b[0m: No module named 'selenium'"
     ]
    }
   ],
   "source": [
    "import pandas as pd\n",
    "import requests\n",
    "from bs4 import BeautifulSoup\n",
    "from selenium.webdriver.support.ui import Select\n",
    "from selenium import webdriver\n",
    "from selenium.webdriver.common.keys import Keys\n",
    "from selenium.webdriver.chrome.options import Options\n",
    "from selenium.webdriver.common.by import By\n",
    "from selenium.webdriver.support.ui import WebDriverWait\n",
    "from selenium.webdriver.support import expected_conditions as EC\n",
    "import time\n",
    "\n",
    "# chrome_options = Options()\n",
    "\n",
    "# chrome_options.add_experimental_option(\"detach\", True)\n",
    "\n",
    "# driver = webdriver.Chrome(chrome_options)\n",
    "\n",
    "# url = 'https://attendence-system-1910.vercel.app/users/login'\n",
    "# driver.get(url)"
   ]
  },
  {
   "cell_type": "code",
   "execution_count": 2,
   "id": "9fe7745d",
   "metadata": {},
   "outputs": [],
   "source": [
    "# Function to login and get the session cookies\n",
    "def login(username, password):\n",
    "    login_url = 'https://attendence-system-1910.vercel.app/users/login'\n",
    "    driver = webdriver.Chrome()  # Provide path to your Chrome driver if necessary\n",
    "    \n",
    "    # Load the login page\n",
    "    print(\"Loading login page...\")\n",
    "    driver.get(login_url)\n",
    "    \n",
    "    try:\n",
    "        # Find email and password fields\n",
    "        print(\"Locating email and password fields...\")\n",
    "        email_field = WebDriverWait(driver, 20).until(EC.presence_of_element_located((By.ID, 'userEmail')))\n",
    "        password_field = WebDriverWait(driver, 20).until(EC.presence_of_element_located((By.ID, 'userPassword')))\n",
    "        \n",
    "        # Enter username and password\n",
    "        print(\"Entering username and password...\")\n",
    "        email_field.send_keys(username)\n",
    "        password_field.send_keys(password)\n",
    "        \n",
    "        # Submit the form\n",
    "        print(\"Submitting login form...\")\n",
    "        password_field.send_keys(Keys.RETURN)\n",
    "        \n",
    "        # Wait for login to complete\n",
    "        print(\"Waiting for login to complete...\")\n",
    "        WebDriverWait(driver, 20).until(EC.url_to_be('https://attendence-system-1910.vercel.app/'))\n",
    "        \n",
    "        print(\"Login successful.\")\n",
    "        return driver\n",
    "    except Exception as e:\n",
    "        print(\"Error occurred during login:\", str(e))\n",
    "        return None"
   ]
  },
  {
   "cell_type": "code",
   "execution_count": 3,
   "id": "6de92f1f",
   "metadata": {},
   "outputs": [],
   "source": [
    "def scrape_attendance(driver):\n",
    "#     attendance_url = 'https://attendence-system-1910.vercel.app/'  # Replace with the URL of attendance page\n",
    "    attendance_url = 'https://attendence-system-1910.vercel.app/students/current/attendances'\n",
    "    driver.get(attendance_url)\n",
    "    if driver.current_url == attendance_url:\n",
    "        try:\n",
    "            dropdown = WebDriverWait(driver, 10).until(EC.visibility_of_element_located((By.ID, 'subjects')))\n",
    "        \n",
    "            # If the dropdown is inside an iframe, you may need to switch to the iframe first\n",
    "            driver.switch_to.frame('frame_name_or_id')\n",
    "\n",
    "            # Select the first option in the dropdown (if it's a Select element)\n",
    "            dropdown = Select(dropdown)\n",
    "            dropdown.select_by_index(0)\n",
    "\n",
    "            # Click the button to view attendance\n",
    "            button = driver.find_element_by_xpath(\"//button[text()='View Attendance']\")\n",
    "            button.click()\n",
    "        \n",
    "#             # Wait for the page to load\n",
    "#             WebDriverWait(driver, 10).until(EC.presence_of_element_located((By.TAG_NAME, 'html')))\n",
    "\n",
    "#             # Get the HTML content of the page\n",
    "#             html_content = driver.page_source\n",
    "\n",
    "#             # Parse HTML content using BeautifulSoup\n",
    "#             soup = BeautifulSoup(html_content, 'html.parser')\n",
    "\n",
    "#             # Prettify the HTML content\n",
    "#             prettified_html = soup.prettify()\n",
    "\n",
    "#             # Print the HTML content\n",
    "#             print(\"HTML content of the attendance page:\")\n",
    "#             print(prettified_html)\n",
    "#             print(\"Attendance data fetched.\")\n",
    "            \n",
    "        except Exception as e:\n",
    "            print(\"Error occurred during attendance fetching:\", str(e))\n",
    "    else:\n",
    "        print(\"Failed to fetch attendance page.\")"
   ]
  },
  {
   "cell_type": "code",
   "execution_count": 4,
   "id": "8893abff",
   "metadata": {},
   "outputs": [],
   "source": [
    "def main():\n",
    "    username = 'deepkorat13@gmail.com'\n",
    "    password = 'Deep@123'\n",
    "    \n",
    "    session = login(username, password)\n",
    "    if session:\n",
    "        try:\n",
    "            scrape_attendance(session)\n",
    "            time.sleep(10)\n",
    "        except Exception as e:\n",
    "            print(\"Error occured in main functino: \", str(e))\n",
    "    else:\n",
    "        print(\"Login failed.\")"
   ]
  },
  {
   "cell_type": "code",
   "execution_count": 5,
   "id": "d1462142",
   "metadata": {},
   "outputs": [
    {
     "name": "stdout",
     "output_type": "stream",
     "text": [
      "Loading login page...\n",
      "Locating email and password fields...\n",
      "Entering username and password...\n",
      "Submitting login form...\n",
      "Waiting for login to complete...\n",
      "Login successful.\n",
      "Error occurred during attendance fetching: Message: \n",
      "Stacktrace:\n",
      "\tGetHandleVerifier [0x00007FF6B2157072+63090]\n",
      "\t(No symbol) [0x00007FF6B20C2CC2]\n",
      "\t(No symbol) [0x00007FF6B1F5EC65]\n",
      "\t(No symbol) [0x00007FF6B1FA499D]\n",
      "\t(No symbol) [0x00007FF6B1FA4ADC]\n",
      "\t(No symbol) [0x00007FF6B1FE5B37]\n",
      "\t(No symbol) [0x00007FF6B1FC701F]\n",
      "\t(No symbol) [0x00007FF6B1FE3412]\n",
      "\t(No symbol) [0x00007FF6B1FC6D83]\n",
      "\t(No symbol) [0x00007FF6B1F983A8]\n",
      "\t(No symbol) [0x00007FF6B1F99441]\n",
      "\tGetHandleVerifier [0x00007FF6B25525CD+4238285]\n",
      "\tGetHandleVerifier [0x00007FF6B258F72D+4488493]\n",
      "\tGetHandleVerifier [0x00007FF6B2587A0F+4456463]\n",
      "\tGetHandleVerifier [0x00007FF6B22305B6+953270]\n",
      "\t(No symbol) [0x00007FF6B20CE58F]\n",
      "\t(No symbol) [0x00007FF6B20C9264]\n",
      "\t(No symbol) [0x00007FF6B20C939B]\n",
      "\t(No symbol) [0x00007FF6B20B9BD4]\n",
      "\tBaseThreadInitThunk [0x00007FFBA8BC7344+20]\n",
      "\tRtlUserThreadStart [0x00007FFBAA6A26B1+33]\n",
      "\n"
     ]
    }
   ],
   "source": [
    "if __name__ == \"__main__\":\n",
    "    main()"
   ]
  },
  {
   "cell_type": "code",
   "execution_count": null,
   "id": "ddc6f9e8",
   "metadata": {},
   "outputs": [],
   "source": []
  },
  {
   "cell_type": "code",
   "execution_count": null,
   "id": "6b32e647",
   "metadata": {},
   "outputs": [],
   "source": []
  }
 ],
 "metadata": {
  "kernelspec": {
   "display_name": "Python 3 (ipykernel)",
   "language": "python",
   "name": "python3"
  },
  "language_info": {
   "codemirror_mode": {
    "name": "ipython",
    "version": 3
   },
   "file_extension": ".py",
   "mimetype": "text/x-python",
   "name": "python",
   "nbconvert_exporter": "python",
   "pygments_lexer": "ipython3",
   "version": "3.11.4"
  }
 },
 "nbformat": 4,
 "nbformat_minor": 5
}
