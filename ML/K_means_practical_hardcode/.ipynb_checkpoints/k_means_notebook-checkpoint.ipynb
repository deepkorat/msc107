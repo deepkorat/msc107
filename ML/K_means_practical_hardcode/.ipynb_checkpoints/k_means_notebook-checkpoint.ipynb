{
 "cells": [
  {
   "cell_type": "markdown",
   "id": "425e0185",
   "metadata": {},
   "source": [
    "# Create Dataframe for K-Means"
   ]
  },
  {
   "cell_type": "code",
   "execution_count": 13,
   "id": "6d2479a1",
   "metadata": {},
   "outputs": [],
   "source": [
    "data_dic = {\"f1\": [1.0, 1.5, 3.0, 5.0, 3.5, 4.5, 3.5],\n",
    "            \"target\": [1.0, 2.0, 4.0, 7.0, 5.0, 5.0, 4.5]}"
   ]
  },
  {
   "cell_type": "code",
   "execution_count": 14,
   "id": "a857fa1f",
   "metadata": {},
   "outputs": [],
   "source": [
    "import pandas as pd\n",
    "import numpy as np\n",
    "import seaborn as sns\n",
    "import matplotlib.pyplot as plt"
   ]
  },
  {
   "cell_type": "code",
   "execution_count": 15,
   "id": "9820d77d",
   "metadata": {},
   "outputs": [
    {
     "data": {
      "text/html": [
       "<div>\n",
       "<style scoped>\n",
       "    .dataframe tbody tr th:only-of-type {\n",
       "        vertical-align: middle;\n",
       "    }\n",
       "\n",
       "    .dataframe tbody tr th {\n",
       "        vertical-align: top;\n",
       "    }\n",
       "\n",
       "    .dataframe thead th {\n",
       "        text-align: right;\n",
       "    }\n",
       "</style>\n",
       "<table border=\"1\" class=\"dataframe\">\n",
       "  <thead>\n",
       "    <tr style=\"text-align: right;\">\n",
       "      <th></th>\n",
       "      <th>f1</th>\n",
       "      <th>target</th>\n",
       "    </tr>\n",
       "  </thead>\n",
       "  <tbody>\n",
       "    <tr>\n",
       "      <th>1</th>\n",
       "      <td>1.0</td>\n",
       "      <td>1.0</td>\n",
       "    </tr>\n",
       "    <tr>\n",
       "      <th>2</th>\n",
       "      <td>1.5</td>\n",
       "      <td>2.0</td>\n",
       "    </tr>\n",
       "    <tr>\n",
       "      <th>3</th>\n",
       "      <td>3.0</td>\n",
       "      <td>4.0</td>\n",
       "    </tr>\n",
       "    <tr>\n",
       "      <th>4</th>\n",
       "      <td>5.0</td>\n",
       "      <td>7.0</td>\n",
       "    </tr>\n",
       "    <tr>\n",
       "      <th>5</th>\n",
       "      <td>3.5</td>\n",
       "      <td>5.0</td>\n",
       "    </tr>\n",
       "    <tr>\n",
       "      <th>6</th>\n",
       "      <td>4.5</td>\n",
       "      <td>5.0</td>\n",
       "    </tr>\n",
       "    <tr>\n",
       "      <th>7</th>\n",
       "      <td>3.5</td>\n",
       "      <td>4.5</td>\n",
       "    </tr>\n",
       "  </tbody>\n",
       "</table>\n",
       "</div>"
      ],
      "text/plain": [
       "    f1  target\n",
       "1  1.0     1.0\n",
       "2  1.5     2.0\n",
       "3  3.0     4.0\n",
       "4  5.0     7.0\n",
       "5  3.5     5.0\n",
       "6  4.5     5.0\n",
       "7  3.5     4.5"
      ]
     },
     "execution_count": 15,
     "metadata": {},
     "output_type": "execute_result"
    }
   ],
   "source": [
    "df = pd.DataFrame(data_dic, index=range(1, len(data_dic['f1']) + 1))\n",
    "df"
   ]
  },
  {
   "cell_type": "code",
   "execution_count": 17,
   "id": "efc2ffd5",
   "metadata": {},
   "outputs": [
    {
     "data": {
      "text/plain": [
       "<matplotlib.collections.PathCollection at 0x1d3803e4910>"
      ]
     },
     "execution_count": 17,
     "metadata": {},
     "output_type": "execute_result"
    },
    {
     "data": {
      "image/png": "[encoded data removed]",
      "text/plain": [
       "<Figure size 640x480 with 1 Axes>"
      ]
     },
     "metadata": {},
     "output_type": "display_data"
    }
   ],
   "source": [
    "plt.scatter(df['f1'], df['target'])"
   ]
  },
  {
   "cell_type": "markdown",
   "id": "b8c648b8",
   "metadata": {},
   "source": [
    "## Initial Clusters\n",
    "#### Now we set K = 2 (Number of Clusters)"
   ]
  },
  {
   "cell_type": "code",
   "execution_count": 564,
   "id": "1ea6d59a",
   "metadata": {},
   "outputs": [],
   "source": [
    "def initialize_centroids(data, k):\n",
    "    one_dimensional_arr = data.shape[0] # getting rows count\n",
    "    get_random_index = np.random.choice(one_dimensional_arr, size=k, replace=False) # now here necessary that we pass only one column for choosing index\n",
    "    centroids = data[get_random_index]\n",
    "    return centroids\n",
    "\n",
    "def calculate_distance_and_make_clusters(data, centroids):\n",
    "    clusters = []\n",
    "    for point in data:\n",
    "        distance = [np.linalg.norm(point-centroid) for centroid in centroids]\n",
    "        min_centroid = np.argmin(distance)\n",
    "        clusters.append(min_centroid)\n",
    "        \n",
    "    return np.array(clusters)\n",
    "    \n",
    "def update_centroid(data, clusters, k):\n",
    "    for i in range(k):\n",
    "        print(i)\n",
    "        d = data[clusters==i]\n",
    "        mean_of_new_cluster = np.mean(d, axis=0)\n",
    "        print(d)\n",
    "        print('mean', mean_of_new_cluster)\n",
    "        return mean_of_new_cluster\n",
    "        \n",
    "\n",
    "def K_means(data, k):\n",
    "    centroids= initialize_centroids(data, k)\n",
    "    for _ in range(len(data)):\n",
    "        clusters = calculate_distance_and_make_clusters(data, centroids)\n",
    "        new_centroid = update_centroid(data, clusters, k)\n",
    "        \n",
    "    \n",
    "    # Now find the distance between each and every point\n",
    "    distances = calculate_distance(data, centroids)"
   ]
  },
  {
   "cell_type": "code",
   "execution_count": 562,
   "id": "7fd328bf",
   "metadata": {},
   "outputs": [],
   "source": [
    "## Convert pandas dataFrame into numpy array\n",
    "data = df.to_numpy()"
   ]
  },
  {
   "cell_type": "code",
   "execution_count": 580,
   "id": "d8259b56",
   "metadata": {},
   "outputs": [
    {
     "name": "stdout",
     "output_type": "stream",
     "text": [
      "0\n",
      "[[1.5 2. ]]\n",
      "mean [1.5 2. ]\n"
     ]
    }
   ],
   "source": [
    "centroids = initialize_centroids(data, k=3)\n",
    "clusters = calculate_distance_and_make_clusters(data, centroids)\n",
    "update = update_centroid(data, clusters, k=3)"
   ]
  },
  {
   "cell_type": "code",
   "execution_count": 581,
   "id": "3b8db160",
   "metadata": {},
   "outputs": [
    {
     "data": {
      "text/plain": [
       "array([2, 0, 1, 1, 1, 1, 1], dtype=int64)"
      ]
     },
     "execution_count": 581,
     "metadata": {},
     "output_type": "execute_result"
    }
   ],
   "source": [
    "clusters"
   ]
  },
  {
   "cell_type": "code",
   "execution_count": 582,
   "id": "c3f7cdb1",
   "metadata": {},
   "outputs": [
    {
     "name": "stdout",
     "output_type": "stream",
     "text": [
      "0\n",
      "[[1.  1. ]\n",
      " [1.5 2. ]]\n",
      "mean [1.25 1.5 ]\n",
      "0\n",
      "[[1.  1. ]\n",
      " [1.5 2. ]]\n",
      "mean [1.25 1.5 ]\n",
      "0\n",
      "[[1.  1. ]\n",
      " [1.5 2. ]]\n",
      "mean [1.25 1.5 ]\n",
      "0\n",
      "[[1.  1. ]\n",
      " [1.5 2. ]]\n",
      "mean [1.25 1.5 ]\n",
      "0\n",
      "[[1.  1. ]\n",
      " [1.5 2. ]]\n",
      "mean [1.25 1.5 ]\n",
      "0\n",
      "[[1.  1. ]\n",
      " [1.5 2. ]]\n",
      "mean [1.25 1.5 ]\n",
      "0\n",
      "[[1.  1. ]\n",
      " [1.5 2. ]]\n",
      "mean [1.25 1.5 ]\n",
      "0\n",
      "0\n",
      "1\n",
      "1\n",
      "1\n",
      "1\n",
      "1\n"
     ]
    }
   ],
   "source": [
    "K_means(data , 2)"
   ]
  },
  {
   "cell_type": "code",
   "execution_count": 491,
   "id": "a0263856",
   "metadata": {},
   "outputs": [
    {
     "data": {
      "image/png": "[encoded data removed]",
      "text/plain": [
       "<Figure size 640x480 with 1 Axes>"
      ]
     },
     "metadata": {},
     "output_type": "display_data"
    }
   ],
   "source": [
    "## below colors i important for demonstration of clusters\n",
    "# colors = ['r' if [df.iloc[i][0], df.iloc[i][1]] == list(c1) else 'g' for i in range(len(df))]\n",
    "plt.scatter(df['f1'], df['target'], color='red')\n",
    "plt.scatter(list(centroids)[0], list(centroids)[1], label=centroids,  color=\"green\")\n",
    "\n",
    "plt.xlabel(\"f1\")\n",
    "plt.ylabel(\"target\")\n",
    "plt.title(\"Initial Clusters c1 and c2\")\n",
    "plt.legend()\n",
    "plt.show()"
   ]
  },
  {
   "cell_type": "code",
   "execution_count": 78,
   "id": "353c3b19",
   "metadata": {},
   "outputs": [
    {
     "data": {
      "text/plain": [
       "1.118033988749895"
      ]
     },
     "execution_count": 78,
     "metadata": {},
     "output_type": "execute_result"
    }
   ],
   "source": [
    "### Demonstration of Euclidian distance.\n",
    "### Subtract each point of df from c1 and c2. Here you can show process of c1 only. Next, we make function of it.\n",
    "np.sqrt((c1[0] - df.iloc[1][0])**2 + (c1[1] - df.iloc[1][1])**2)\n"
   ]
  },
  {
   "cell_type": "code",
   "execution_count": 479,
   "id": "b265b815",
   "metadata": {},
   "outputs": [],
   "source": [
    "def distance(c1, df):\n",
    "    distance_from_cluster_1 = []\n",
    "    distance_from_cluster_2 = []\n",
    "    \n",
    "    # make a 2 clusters\n",
    "    cluster_1 = []\n",
    "    cluster_2 = []\n",
    "    for i in range(len(df)):\n",
    "            # calculate c1 distance\n",
    "            distance_1 = np.sqrt((c1[0] - df.iloc[i][0])**2 + (c1[1] - df.iloc[i][1])**2)\n",
    "            distance_from_cluster_1.append(distance_1)\n",
    "            \n",
    "            # calculate c2 distance\n",
    "            distance_2 = np.sqrt((c2[0] - df.iloc[i][0])**2 + (c2[1] - df.iloc[i][1])**2)\n",
    "            distance_from_cluster_2.append(distance_2)\n",
    "            \n",
    "            if distance_1<=distance_2:\n",
    "                cluster_1.append(tuple(df.iloc[i]))\n",
    "                cluster_1 = pd.DataFrame(cluster_1, columns=['f1','f2'])\n",
    "            else:\n",
    "                cluster_2.append(tuple(df.iloc[i]))\n",
    "                cluster_2 = pd.DataFrame(cluster_2, columns=['f1','f2'])\n",
    "    print(\"CLUSTER 1: \", cluster_1)\n",
    "    print(\"CLUSTER 2: \", cluster_2)\n",
    "#     print(\"Mean of cluster 1: \", np.mean(cluster_1))\n",
    "#     print(\"Mean of cluster 2: \", np.mean(cluster_2))\n",
    "                                       \n",
    "#     return cluster_1, cluster_2"
   ]
  },
  {
   "cell_type": "code",
   "execution_count": 480,
   "id": "1c4fc5fd",
   "metadata": {},
   "outputs": [
    {
     "name": "stderr",
     "output_type": "stream",
     "text": [
      "C:\\Users\\rcc\\AppData\\Local\\Temp\\ipykernel_10472\\94641910.py:18: FutureWarning: The frame.append method is deprecated and will be removed from pandas in a future version. Use pandas.concat instead.\n",
      "  cluster_1.append(tuple(df.iloc[i]))\n"
     ]
    },
    {
     "ename": "TypeError",
     "evalue": "cannot concatenate object of type '<class 'float'>'; only Series and DataFrame objs are valid",
     "output_type": "error",
     "traceback": [
      "\u001b[1;31m---------------------------------------------------------------------------\u001b[0m",
      "\u001b[1;31mTypeError\u001b[0m                                 Traceback (most recent call last)",
      "Cell \u001b[1;32mIn[480], line 1\u001b[0m\n\u001b[1;32m----> 1\u001b[0m cluster_1, cluster_2 \u001b[38;5;241m=\u001b[39m distance(c1, df)\n\u001b[0;32m      3\u001b[0m pd\u001b[38;5;241m.\u001b[39mDataFrame(cluster_1, columns\u001b[38;5;241m=\u001b[39m[\u001b[38;5;124m'\u001b[39m\u001b[38;5;124mf1\u001b[39m\u001b[38;5;124m'\u001b[39m,\u001b[38;5;124m'\u001b[39m\u001b[38;5;124mf2\u001b[39m\u001b[38;5;124m'\u001b[39m])\n",
      "Cell \u001b[1;32mIn[479], line 18\u001b[0m, in \u001b[0;36mdistance\u001b[1;34m(c1, df)\u001b[0m\n\u001b[0;32m     15\u001b[0m distance_from_cluster_2\u001b[38;5;241m.\u001b[39mappend(distance_2)\n\u001b[0;32m     17\u001b[0m \u001b[38;5;28;01mif\u001b[39;00m distance_1\u001b[38;5;241m<\u001b[39m\u001b[38;5;241m=\u001b[39mdistance_2:\n\u001b[1;32m---> 18\u001b[0m     cluster_1\u001b[38;5;241m.\u001b[39mappend(\u001b[38;5;28mtuple\u001b[39m(df\u001b[38;5;241m.\u001b[39miloc[i]))\n\u001b[0;32m     19\u001b[0m     cluster_1 \u001b[38;5;241m=\u001b[39m pd\u001b[38;5;241m.\u001b[39mDataFrame(cluster_1, columns\u001b[38;5;241m=\u001b[39m[\u001b[38;5;124m'\u001b[39m\u001b[38;5;124mf1\u001b[39m\u001b[38;5;124m'\u001b[39m,\u001b[38;5;124m'\u001b[39m\u001b[38;5;124mf2\u001b[39m\u001b[38;5;124m'\u001b[39m])\n\u001b[0;32m     20\u001b[0m \u001b[38;5;28;01melse\u001b[39;00m:\n",
      "File \u001b[1;32mC:\\ProgramData\\anaconda3\\Lib\\site-packages\\pandas\\core\\frame.py:9768\u001b[0m, in \u001b[0;36mDataFrame.append\u001b[1;34m(self, other, ignore_index, verify_integrity, sort)\u001b[0m\n\u001b[0;32m   9665\u001b[0m \u001b[38;5;250m\u001b[39m\u001b[38;5;124;03m\"\"\"\u001b[39;00m\n\u001b[0;32m   9666\u001b[0m \u001b[38;5;124;03mAppend rows of `other` to the end of caller, returning a new object.\u001b[39;00m\n\u001b[0;32m   9667\u001b[0m \n\u001b[1;32m   (...)\u001b[0m\n\u001b[0;32m   9758\u001b[0m \u001b[38;5;124;03m4  4\u001b[39;00m\n\u001b[0;32m   9759\u001b[0m \u001b[38;5;124;03m\"\"\"\u001b[39;00m\n\u001b[0;32m   9760\u001b[0m warnings\u001b[38;5;241m.\u001b[39mwarn(\n\u001b[0;32m   9761\u001b[0m     \u001b[38;5;124m\"\u001b[39m\u001b[38;5;124mThe frame.append method is deprecated \u001b[39m\u001b[38;5;124m\"\u001b[39m\n\u001b[0;32m   9762\u001b[0m     \u001b[38;5;124m\"\u001b[39m\u001b[38;5;124mand will be removed from pandas in a future version. \u001b[39m\u001b[38;5;124m\"\u001b[39m\n\u001b[1;32m   (...)\u001b[0m\n\u001b[0;32m   9765\u001b[0m     stacklevel\u001b[38;5;241m=\u001b[39mfind_stack_level(),\n\u001b[0;32m   9766\u001b[0m )\n\u001b[1;32m-> 9768\u001b[0m \u001b[38;5;28;01mreturn\u001b[39;00m \u001b[38;5;28mself\u001b[39m\u001b[38;5;241m.\u001b[39m_append(other, ignore_index, verify_integrity, sort)\n",
      "File \u001b[1;32mC:\\ProgramData\\anaconda3\\Lib\\site-packages\\pandas\\core\\frame.py:9808\u001b[0m, in \u001b[0;36mDataFrame._append\u001b[1;34m(self, other, ignore_index, verify_integrity, sort)\u001b[0m\n\u001b[0;32m   9805\u001b[0m \u001b[38;5;28;01melse\u001b[39;00m:\n\u001b[0;32m   9806\u001b[0m     to_concat \u001b[38;5;241m=\u001b[39m [\u001b[38;5;28mself\u001b[39m, other]\n\u001b[1;32m-> 9808\u001b[0m result \u001b[38;5;241m=\u001b[39m concat(\n\u001b[0;32m   9809\u001b[0m     to_concat,\n\u001b[0;32m   9810\u001b[0m     ignore_index\u001b[38;5;241m=\u001b[39mignore_index,\n\u001b[0;32m   9811\u001b[0m     verify_integrity\u001b[38;5;241m=\u001b[39mverify_integrity,\n\u001b[0;32m   9812\u001b[0m     sort\u001b[38;5;241m=\u001b[39msort,\n\u001b[0;32m   9813\u001b[0m )\n\u001b[0;32m   9814\u001b[0m \u001b[38;5;28;01mreturn\u001b[39;00m result\u001b[38;5;241m.\u001b[39m__finalize__(\u001b[38;5;28mself\u001b[39m, method\u001b[38;5;241m=\u001b[39m\u001b[38;5;124m\"\u001b[39m\u001b[38;5;124mappend\u001b[39m\u001b[38;5;124m\"\u001b[39m)\n",
      "File \u001b[1;32mC:\\ProgramData\\anaconda3\\Lib\\site-packages\\pandas\\util\\_decorators.py:331\u001b[0m, in \u001b[0;36mdeprecate_nonkeyword_arguments.<locals>.decorate.<locals>.wrapper\u001b[1;34m(*args, **kwargs)\u001b[0m\n\u001b[0;32m    325\u001b[0m \u001b[38;5;28;01mif\u001b[39;00m \u001b[38;5;28mlen\u001b[39m(args) \u001b[38;5;241m>\u001b[39m num_allow_args:\n\u001b[0;32m    326\u001b[0m     warnings\u001b[38;5;241m.\u001b[39mwarn(\n\u001b[0;32m    327\u001b[0m         msg\u001b[38;5;241m.\u001b[39mformat(arguments\u001b[38;5;241m=\u001b[39m_format_argument_list(allow_args)),\n\u001b[0;32m    328\u001b[0m         \u001b[38;5;167;01mFutureWarning\u001b[39;00m,\n\u001b[0;32m    329\u001b[0m         stacklevel\u001b[38;5;241m=\u001b[39mfind_stack_level(),\n\u001b[0;32m    330\u001b[0m     )\n\u001b[1;32m--> 331\u001b[0m \u001b[38;5;28;01mreturn\u001b[39;00m func(\u001b[38;5;241m*\u001b[39margs, \u001b[38;5;241m*\u001b[39m\u001b[38;5;241m*\u001b[39mkwargs)\n",
      "File \u001b[1;32mC:\\ProgramData\\anaconda3\\Lib\\site-packages\\pandas\\core\\reshape\\concat.py:368\u001b[0m, in \u001b[0;36mconcat\u001b[1;34m(objs, axis, join, ignore_index, keys, levels, names, verify_integrity, sort, copy)\u001b[0m\n\u001b[0;32m    146\u001b[0m \u001b[38;5;129m@deprecate_nonkeyword_arguments\u001b[39m(version\u001b[38;5;241m=\u001b[39m\u001b[38;5;28;01mNone\u001b[39;00m, allowed_args\u001b[38;5;241m=\u001b[39m[\u001b[38;5;124m\"\u001b[39m\u001b[38;5;124mobjs\u001b[39m\u001b[38;5;124m\"\u001b[39m])\n\u001b[0;32m    147\u001b[0m \u001b[38;5;28;01mdef\u001b[39;00m \u001b[38;5;21mconcat\u001b[39m(\n\u001b[0;32m    148\u001b[0m     objs: Iterable[NDFrame] \u001b[38;5;241m|\u001b[39m Mapping[HashableT, NDFrame],\n\u001b[1;32m   (...)\u001b[0m\n\u001b[0;32m    157\u001b[0m     copy: \u001b[38;5;28mbool\u001b[39m \u001b[38;5;241m=\u001b[39m \u001b[38;5;28;01mTrue\u001b[39;00m,\n\u001b[0;32m    158\u001b[0m ) \u001b[38;5;241m-\u001b[39m\u001b[38;5;241m>\u001b[39m DataFrame \u001b[38;5;241m|\u001b[39m Series:\n\u001b[0;32m    159\u001b[0m \u001b[38;5;250m    \u001b[39m\u001b[38;5;124;03m\"\"\"\u001b[39;00m\n\u001b[0;32m    160\u001b[0m \u001b[38;5;124;03m    Concatenate pandas objects along a particular axis.\u001b[39;00m\n\u001b[0;32m    161\u001b[0m \n\u001b[1;32m   (...)\u001b[0m\n\u001b[0;32m    366\u001b[0m \u001b[38;5;124;03m    1   3   4\u001b[39;00m\n\u001b[0;32m    367\u001b[0m \u001b[38;5;124;03m    \"\"\"\u001b[39;00m\n\u001b[1;32m--> 368\u001b[0m     op \u001b[38;5;241m=\u001b[39m _Concatenator(\n\u001b[0;32m    369\u001b[0m         objs,\n\u001b[0;32m    370\u001b[0m         axis\u001b[38;5;241m=\u001b[39maxis,\n\u001b[0;32m    371\u001b[0m         ignore_index\u001b[38;5;241m=\u001b[39mignore_index,\n\u001b[0;32m    372\u001b[0m         join\u001b[38;5;241m=\u001b[39mjoin,\n\u001b[0;32m    373\u001b[0m         keys\u001b[38;5;241m=\u001b[39mkeys,\n\u001b[0;32m    374\u001b[0m         levels\u001b[38;5;241m=\u001b[39mlevels,\n\u001b[0;32m    375\u001b[0m         names\u001b[38;5;241m=\u001b[39mnames,\n\u001b[0;32m    376\u001b[0m         verify_integrity\u001b[38;5;241m=\u001b[39mverify_integrity,\n\u001b[0;32m    377\u001b[0m         copy\u001b[38;5;241m=\u001b[39mcopy,\n\u001b[0;32m    378\u001b[0m         sort\u001b[38;5;241m=\u001b[39msort,\n\u001b[0;32m    379\u001b[0m     )\n\u001b[0;32m    381\u001b[0m     \u001b[38;5;28;01mreturn\u001b[39;00m op\u001b[38;5;241m.\u001b[39mget_result()\n",
      "File \u001b[1;32mC:\\ProgramData\\anaconda3\\Lib\\site-packages\\pandas\\core\\reshape\\concat.py:458\u001b[0m, in \u001b[0;36m_Concatenator.__init__\u001b[1;34m(self, objs, axis, join, keys, levels, names, ignore_index, verify_integrity, copy, sort)\u001b[0m\n\u001b[0;32m    453\u001b[0m     \u001b[38;5;28;01mif\u001b[39;00m \u001b[38;5;129;01mnot\u001b[39;00m \u001b[38;5;28misinstance\u001b[39m(obj, (ABCSeries, ABCDataFrame)):\n\u001b[0;32m    454\u001b[0m         msg \u001b[38;5;241m=\u001b[39m (\n\u001b[0;32m    455\u001b[0m             \u001b[38;5;124mf\u001b[39m\u001b[38;5;124m\"\u001b[39m\u001b[38;5;124mcannot concatenate object of type \u001b[39m\u001b[38;5;124m'\u001b[39m\u001b[38;5;132;01m{\u001b[39;00m\u001b[38;5;28mtype\u001b[39m(obj)\u001b[38;5;132;01m}\u001b[39;00m\u001b[38;5;124m'\u001b[39m\u001b[38;5;124m; \u001b[39m\u001b[38;5;124m\"\u001b[39m\n\u001b[0;32m    456\u001b[0m             \u001b[38;5;124m\"\u001b[39m\u001b[38;5;124monly Series and DataFrame objs are valid\u001b[39m\u001b[38;5;124m\"\u001b[39m\n\u001b[0;32m    457\u001b[0m         )\n\u001b[1;32m--> 458\u001b[0m         \u001b[38;5;28;01mraise\u001b[39;00m \u001b[38;5;167;01mTypeError\u001b[39;00m(msg)\n\u001b[0;32m    460\u001b[0m     ndims\u001b[38;5;241m.\u001b[39madd(obj\u001b[38;5;241m.\u001b[39mndim)\n\u001b[0;32m    462\u001b[0m \u001b[38;5;66;03m# get the sample\u001b[39;00m\n\u001b[0;32m    463\u001b[0m \u001b[38;5;66;03m# want the highest ndim that we have, and must be non-empty\u001b[39;00m\n\u001b[0;32m    464\u001b[0m \u001b[38;5;66;03m# unless all objs are empty\u001b[39;00m\n",
      "\u001b[1;31mTypeError\u001b[0m: cannot concatenate object of type '<class 'float'>'; only Series and DataFrame objs are valid"
     ]
    }
   ],
   "source": [
    "cluster_1, cluster_2 = distance(c1, df)\n",
    "\n",
    "pd.DataFrame(cluster_1, columns=['f1','f2'])"
   ]
  },
  {
   "cell_type": "code",
   "execution_count": 473,
   "id": "482cf327",
   "metadata": {},
   "outputs": [],
   "source": [
    "# distance_from_cluster_1, distance_from_cluster_2 = distance(c1, df)"
   ]
  },
  {
   "cell_type": "code",
   "execution_count": 443,
   "id": "c737832c",
   "metadata": {},
   "outputs": [
    {
     "data": {
      "text/plain": [
       "[0.0,\n",
       " 1.118033988749895,\n",
       " 3.605551275463989,\n",
       " 7.211102550927978,\n",
       " 4.716990566028302,\n",
       " 5.315072906367325,\n",
       " 4.301162633521313]"
      ]
     },
     "execution_count": 443,
     "metadata": {},
     "output_type": "execute_result"
    }
   ],
   "source": [
    "distance_from_cluster_1"
   ]
  },
  {
   "cell_type": "code",
   "execution_count": 346,
   "id": "797022d9",
   "metadata": {},
   "outputs": [
    {
     "data": {
      "text/plain": [
       "[7.211102550927978,\n",
       " 6.103277807866851,\n",
       " 3.605551275463989,\n",
       " 0.0,\n",
       " 2.5,\n",
       " 2.0615528128088303,\n",
       " 2.9154759474226504]"
      ]
     },
     "execution_count": 346,
     "metadata": {},
     "output_type": "execute_result"
    }
   ],
   "source": [
    "distance_from_cluster_2"
   ]
  },
  {
   "cell_type": "code",
   "execution_count": 404,
   "id": "df17d7cc",
   "metadata": {},
   "outputs": [
    {
     "name": "stdout",
     "output_type": "stream",
     "text": [
      "    f1   f2\n",
      "1  1.0  1.0\n",
      "2  1.5  2.0\n",
      "3  3.0  4.0\n",
      "4  5.0  7.0\n",
      "5  3.5  5.0\n",
      "6  4.5  5.0\n",
      "7  3.5  4.5\n"
     ]
    },
    {
     "ename": "TypeError",
     "evalue": "list.append() takes exactly one argument (0 given)",
     "output_type": "error",
     "traceback": [
      "\u001b[1;31m---------------------------------------------------------------------------\u001b[0m",
      "\u001b[1;31mTypeError\u001b[0m                                 Traceback (most recent call last)",
      "Cell \u001b[1;32mIn[404], line 6\u001b[0m\n\u001b[0;32m      4\u001b[0m \u001b[38;5;28;01mif\u001b[39;00m d1\u001b[38;5;241m<\u001b[39m\u001b[38;5;241m=\u001b[39md2:\n\u001b[0;32m      5\u001b[0m     \u001b[38;5;28mprint\u001b[39m(df)\n\u001b[1;32m----> 6\u001b[0m     cluster_1\u001b[38;5;241m.\u001b[39mappend()\n\u001b[0;32m      7\u001b[0m     \u001b[38;5;28mprint\u001b[39m(\u001b[38;5;124m\"\u001b[39m\u001b[38;5;124mcluster 1: \u001b[39m\u001b[38;5;124m\"\u001b[39m, d1)\n\u001b[0;32m      8\u001b[0m \u001b[38;5;28;01melse\u001b[39;00m:\n",
      "\u001b[1;31mTypeError\u001b[0m: list.append() takes exactly one argument (0 given)"
     ]
    }
   ],
   "source": [
    "for count, (d1, d2) in enumerate(zip(distance_from_cluster_1, distance_from_cluster_2)):\n",
    "    cluster_1 = []\n",
    "    cluster_2 = []\n",
    "    if d1<=d2:\n",
    "        print(df)\n",
    "        cluster_1.append()\n",
    "        print(\"cluster 1: \", d1)\n",
    "    else:\n",
    "        print(\"cluster 2: \", d2)\n",
    "\n",
    "    print(count+1, d1)"
   ]
  },
  {
   "cell_type": "code",
   "execution_count": 335,
   "id": "031a93c5",
   "metadata": {},
   "outputs": [
    {
     "data": {
      "image/png": "[encoded data removed]",
      "text/plain": [
       "<Figure size 640x480 with 1 Axes>"
      ]
     },
     "metadata": {},
     "output_type": "display_data"
    }
   ],
   "source": [
    "import matplotlib.pyplot as plt\n",
    "\n",
    "# Define the two lists with 7 elements each\n",
    "list1 = [2, 4, 3, 6, 5, 1, 7]\n",
    "list2 = [5, 3, 2, 6, 4, 7, 1]\n",
    "\n",
    "# Define colors based on the comparison of elements\n",
    "colors1 = ['red' if x < y else 'blue' for x, y in zip(list1, list2)]\n",
    "colors2 = ['green' if x < y else 'orange' for x, y in zip(list1, list2)]\n",
    "\n",
    "# Plot the elements of list1\n",
    "plt.scatter(range(len(list1)), list1, c=colors1, label='List 1')\n",
    "\n",
    "# Plot the elements of list2\n",
    "plt.scatter(range(len(list2)), list2, c=colors2, label='List 2')\n",
    "\n",
    "# Add legend\n",
    "plt.legend()\n",
    "\n",
    "# Show the plot\n",
    "plt.show()\n"
   ]
  },
  {
   "cell_type": "code",
   "execution_count": null,
   "id": "6e42ddbd",
   "metadata": {},
   "outputs": [],
   "source": []
  },
  {
   "cell_type": "code",
   "execution_count": null,
   "id": "9741709e",
   "metadata": {},
   "outputs": [],
   "source": []
  },
  {
   "cell_type": "code",
   "execution_count": null,
   "id": "b4216c44",
   "metadata": {},
   "outputs": [],
   "source": []
  },
  {
   "cell_type": "code",
   "execution_count": null,
   "id": "bdf63ed7",
   "metadata": {},
   "outputs": [],
   "source": []
  }
 ],
 "metadata": {
  "kernelspec": {
   "display_name": "Python 3 (ipykernel)",
   "language": "python",
   "name": "python3"
  },
  "language_info": {
   "codemirror_mode": {
    "name": "ipython",
    "version": 3
   },
   "file_extension": ".py",
   "mimetype": "text/x-python",
   "name": "python",
   "nbconvert_exporter": "python",
   "pygments_lexer": "ipython3",
   "version": "3.11.4"
  }
 },
 "nbformat": 4,
 "nbformat_minor": 5
}
