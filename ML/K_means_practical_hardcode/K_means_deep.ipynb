{
 "cells": [
  {
   "cell_type": "code",
   "execution_count": 3,
   "id": "814f6cbd-091d-42ce-98ad-0198186aaff6",
   "metadata": {},
   "outputs": [],
   "source": [
    "import numpy as np\n",
    "import pandas as pd"
   ]
  },
  {
   "cell_type": "markdown",
   "id": "cd313fe0-357a-4c5f-845a-6b67e3562004",
   "metadata": {},
   "source": [
    "### 1. Initialize k centroids. Here note down centroids is from our actual data point, no any dreamy concept."
   ]
  },
  {
   "cell_type": "code",
   "execution_count": 4,
   "id": "71e6784d-b440-4939-8688-5fa219a15162",
   "metadata": {},
   "outputs": [
    {
     "name": "stdout",
     "output_type": "stream",
     "text": [
      "Final clusters: [1 1 0 0 0]\n",
      "Final centroids: [[8.         8.33333333]\n",
      " [1.5        2.5       ]]\n"
     ]
    }
   ],
   "source": [
    "\n",
    "\n",
    "# Step 1: Randomly place boxes (initialize centroids)\n",
    "def initialize_centroids(X, k):\n",
    "    n_samples, _ = X.shape\n",
    "    random_indices = np.random.choice(n_samples, k, replace=False) ## here we chhose index randomly\n",
    "    centroids = X[random_indices] ## here we get data through the index.\n",
    "    return centroids\n",
    "\n",
    "# Step 2: Assign toys to boxes\n",
    "def assign_to_clusters(X, centroids):\n",
    "    clusters = []\n",
    "    for point in X:\n",
    "        distances = [np.linalg.norm(point - centroid) for centroid in centroids]\n",
    "        cluster = np.argmin(distances)\n",
    "        clusters.append(cluster)\n",
    "    return np.array(clusters)\n",
    "\n",
    "# Step 3: Move boxes to the center of assigned toys (update centroids)\n",
    "def update_centroids(X, clusters, k):\n",
    "    centroids = []\n",
    "    for i in range(k):\n",
    "        cluster_points = X[clusters == i]\n",
    "        centroid = np.mean(cluster_points, axis=0)\n",
    "        centroids.append(centroid)\n",
    "    return np.array(centroids)\n",
    "\n",
    "# K-means algorithm\n",
    "def kmeans(X, k, max_iters=100):\n",
    "    # Step 1:- Initialize Centroids\n",
    "    centroids = initialize_centroids(X, k) # here X is our data, k is number of cluster which we want\n",
    "    \n",
    "    for _ in range(max_iters):\n",
    "        clusters = assign_to_clusters(X, centroids)\n",
    "        new_centroids = update_centroids(X, clusters, k) ## now we get 2 new centroids which is dreammy.(not actual data point)\n",
    "\n",
    "        if np.all(centroids == new_centroids):\n",
    "            break\n",
    "        centroids = new_centroids\n",
    "    return clusters, centroids\n",
    "\n",
    "# Toy example\n",
    "X = np.array([[1, 2], [2, 3], [8, 7], [7, 8], [9, 10]])\n",
    "k = 2\n",
    "clusters, centroids = kmeans(X, k)\n",
    "print(\"Final clusters:\", clusters)\n",
    "print(\"Final centroids:\", centroids)\n"
   ]
  },
  {
   "cell_type": "code",
   "execution_count": 21,
   "id": "9554d736-7345-4eba-8496-b1dd1a25745d",
   "metadata": {},
   "outputs": [
    {
     "data": {
      "text/html": [
       "<div>\n",
       "<style scoped>\n",
       "    .dataframe tbody tr th:only-of-type {\n",
       "        vertical-align: middle;\n",
       "    }\n",
       "\n",
       "    .dataframe tbody tr th {\n",
       "        vertical-align: top;\n",
       "    }\n",
       "\n",
       "    .dataframe thead th {\n",
       "        text-align: right;\n",
       "    }\n",
       "</style>\n",
       "<table border=\"1\" class=\"dataframe\">\n",
       "  <thead>\n",
       "    <tr style=\"text-align: right;\">\n",
       "      <th></th>\n",
       "      <th>features</th>\n",
       "      <th>target</th>\n",
       "    </tr>\n",
       "  </thead>\n",
       "  <tbody>\n",
       "    <tr>\n",
       "      <th>0</th>\n",
       "      <td>1</td>\n",
       "      <td>2</td>\n",
       "    </tr>\n",
       "    <tr>\n",
       "      <th>1</th>\n",
       "      <td>2</td>\n",
       "      <td>3</td>\n",
       "    </tr>\n",
       "    <tr>\n",
       "      <th>2</th>\n",
       "      <td>8</td>\n",
       "      <td>7</td>\n",
       "    </tr>\n",
       "    <tr>\n",
       "      <th>3</th>\n",
       "      <td>7</td>\n",
       "      <td>8</td>\n",
       "    </tr>\n",
       "    <tr>\n",
       "      <th>4</th>\n",
       "      <td>9</td>\n",
       "      <td>10</td>\n",
       "    </tr>\n",
       "  </tbody>\n",
       "</table>\n",
       "</div>"
      ],
      "text/plain": [
       "   features  target\n",
       "0         1       2\n",
       "1         2       3\n",
       "2         8       7\n",
       "3         7       8\n",
       "4         9      10"
      ]
     },
     "execution_count": 21,
     "metadata": {},
     "output_type": "execute_result"
    }
   ],
   "source": [
    "# Understanding of data\n",
    "X = np.array([[1, 2], [2, 3], [8, 7], [7, 8], [9, 10]])\n",
    "df = pd.DataFrame(X, columns=['features', 'target'])\n",
    "df ## here may be you have one or more features but it work as same."
   ]
  },
  {
   "cell_type": "code",
   "execution_count": 24,
   "id": "b0ae8237-b45e-48f8-9d0b-75b16665dfff",
   "metadata": {},
   "outputs": [],
   "source": [
    "def initialize_centroids(X, k):\n",
    "    n_samples, _ = X.shape\n",
    "    random_indices = np.random.choice(n_samples, k, replace=False) ## here we chhose index randomly\n",
    "    centroids = X[random_indices] ## here we get data through the index.\n",
    "    return centroids\n",
    "\n",
    "def assign_to_clusters(X, centroids):\n",
    "    clusters = []\n",
    "    for point in X:\n",
    "        distances = [np.linalg.norm(point - centroid) for centroid in centroids] # this function gives you distance from point to clusters.\n",
    "        print(distances) \n",
    "        cluster = np.argmin(distances)\n",
    "        print(\"This is cluster:- \\n\", cluster)\n",
    "        print(\"-----------------------------\")\n",
    "        clusters.append(cluster)\n",
    "    print(\"This is full clusters\", clusters)\n",
    "    return np.array(clusters)\n",
    "\n",
    "def update_centroids(X, clusters, k):\n",
    "    centroids = []\n",
    "    for i in range(k):\n",
    "        cluster_points = X[clusters == i]\n",
    "        print(\"This is cluster points:- \", cluster_points)\n",
    "        centroid = np.mean(cluster_points, axis=0)\n",
    "        print(\"this is our shit new centroid through mean:- \", centroid)\n",
    "        centroids.append(centroid)\n",
    "    print(\"Our new centorids which is DREAMMY:- \", centroids)\n",
    "    return np.array(centroids)"
   ]
  },
  {
   "cell_type": "code",
   "execution_count": 25,
   "id": "3d8a71df-2176-4b7d-8747-a0504c8d7062",
   "metadata": {},
   "outputs": [
    {
     "name": "stdout",
     "output_type": "stream",
     "text": [
      "[8.48528137423857, 11.313708498984761]\n",
      "This is cluster:- \n",
      " 0\n",
      "-----------------------------\n",
      "[7.0710678118654755, 9.899494936611665]\n",
      "This is cluster:- \n",
      " 0\n",
      "-----------------------------\n",
      "[1.4142135623730951, 3.1622776601683795]\n",
      "This is cluster:- \n",
      " 0\n",
      "-----------------------------\n",
      "[0.0, 2.8284271247461903]\n",
      "This is cluster:- \n",
      " 0\n",
      "-----------------------------\n",
      "[2.8284271247461903, 0.0]\n",
      "This is cluster:- \n",
      " 1\n",
      "-----------------------------\n",
      "This is full clusters [0, 0, 0, 0, 1]\n",
      "This is cluster points:-  [[1 2]\n",
      " [2 3]\n",
      " [8 7]\n",
      " [7 8]]\n",
      "this is our shit new centroid through mean:-  [4.5 5. ]\n",
      "This is cluster points:-  [[ 9 10]]\n",
      "this is our shit new centroid through mean:-  [ 9. 10.]\n",
      "Our new centorids which is DREAMMY:-  [array([4.5, 5. ]), array([ 9., 10.])]\n"
     ]
    },
    {
     "data": {
      "text/plain": [
       "array([[ 4.5,  5. ],\n",
       "       [ 9. , 10. ]])"
      ]
     },
     "execution_count": 25,
     "metadata": {},
     "output_type": "execute_result"
    }
   ],
   "source": [
    "centroids = initialize_centroids(X, 2)\n",
    "centroids\n",
    "\n",
    "clusters = assign_to_clusters(X, centroids) ## here you can see each data point assign to its nearest cluster.\n",
    "update_centroids(X, clusters, 2)"
   ]
  },
  {
   "cell_type": "code",
   "execution_count": 26,
   "id": "6068f707",
   "metadata": {},
   "outputs": [
    {
     "data": {
      "text/plain": [
       "array([[ 1,  2],\n",
       "       [ 2,  3],\n",
       "       [ 8,  7],\n",
       "       [ 7,  8],\n",
       "       [ 9, 10]])"
      ]
     },
     "execution_count": 26,
     "metadata": {},
     "output_type": "execute_result"
    }
   ],
   "source": [
    "X"
   ]
  },
  {
   "cell_type": "code",
   "execution_count": 28,
   "id": "20f30237",
   "metadata": {},
   "outputs": [
    {
     "data": {
      "text/plain": [
       "array([0, 0, 0, 0, 1], dtype=int64)"
      ]
     },
     "execution_count": 28,
     "metadata": {},
     "output_type": "execute_result"
    }
   ],
   "source": [
    "clusters"
   ]
  },
  {
   "cell_type": "code",
   "execution_count": 27,
   "id": "e17ca114-3cb6-4449-abd1-2a297f2fc899",
   "metadata": {},
   "outputs": [
    {
     "name": "stdout",
     "output_type": "stream",
     "text": [
      "[[1 2]\n",
      " [2 3]\n",
      " [8 7]\n",
      " [7 8]]\n",
      "[[ 9 10]]\n"
     ]
    }
   ],
   "source": [
    "for i in range(2):\n",
    "    print(X[clusters == i])"
   ]
  },
  {
   "cell_type": "code",
   "execution_count": 73,
   "id": "4913fa21-061f-4e0f-9411-1a1b7fdfa216",
   "metadata": {},
   "outputs": [],
   "source": []
  },
  {
   "cell_type": "code",
   "execution_count": null,
   "id": "8f6265fc-74fc-4a9a-a72f-2a2fc4619ab8",
   "metadata": {},
   "outputs": [],
   "source": []
  }
 ],
 "metadata": {
  "kernelspec": {
   "display_name": "Python 3 (ipykernel)",
   "language": "python",
   "name": "python3"
  },
  "language_info": {
   "codemirror_mode": {
    "name": "ipython",
    "version": 3
   },
   "file_extension": ".py",
   "mimetype": "text/x-python",
   "name": "python",
   "nbconvert_exporter": "python",
   "pygments_lexer": "ipython3",
   "version": "3.11.4"
  }
 },
 "nbformat": 4,
 "nbformat_minor": 5
}
