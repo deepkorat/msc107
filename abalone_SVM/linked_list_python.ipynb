{
 "cells": [
  {
   "cell_type": "code",
   "execution_count": 5,
   "id": "ac442170",
   "metadata": {},
   "outputs": [],
   "source": [
    "class Node:\n",
    "    def __init__(self, data):\n",
    "        self.data = data # assing given data to the node\n",
    "        self.next = None # Initialize next attribute to NULL\n",
    "        "
   ]
  },
  {
   "cell_type": "code",
   "execution_count": 8,
   "id": "70338228",
   "metadata": {},
   "outputs": [],
   "source": [
    "class LinkedList:\n",
    "    def __init__(self):\n",
    "        self.head = None \n",
    "        \n",
    "    def insertAtBeginning(self, new_data):\n",
    "        new_node = Node(new_data)\n",
    "        new_node.next = self.head\n",
    "        self.head = new_node\n",
    "        \n",
    "    def printList(self):\n",
    "        temp = self.head\n",
    "        while temp:\n",
    "            print(temp.data, end=' ')\n",
    "            temp = temp.next\n",
    "        print()"
   ]
  },
  {
   "cell_type": "code",
   "execution_count": 90,
   "id": "989eadbd",
   "metadata": {},
   "outputs": [
    {
     "name": "stdout",
     "output_type": "stream",
     "text": [
      "Initial head:  None\n",
      "25 \n",
      "None \n",
      "\n",
      "30 25 \n",
      "<__main__.Node object at 0x00000170AD429510> \n",
      "\n",
      "2568 30 25 \n",
      "<__main__.Node object at 0x00000170ADA0C290> \n",
      "\n",
      "18 2568 30 25 \n",
      "<__main__.Node object at 0x00000170AEE08210> \n",
      "\n"
     ]
    }
   ],
   "source": [
    "if __name__ == \"__main__\":\n",
    "    llist = LinkedList()\n",
    "    print(\"Initial head: \", llist.head)\n",
    "    \n",
    "    llist.insertAtBeginning(25)\n",
    "    llist.printList()\n",
    "    print(llist.head.next, '\\n')\n",
    "    \n",
    "    llist.insertAtBeginning(30)\n",
    "    llist.printList()\n",
    "    print(llist.head.next, '\\n')\n",
    "    \n",
    "    llist.insertAtBeginning(2568)\n",
    "    llist.printList()\n",
    "    print(llist.head.next, '\\n')\n",
    "    \n",
    "    llist.insertAtBeginning(18)\n",
    "    llist.printList()\n",
    "    print(llist.head.next, '\\n')\n",
    "    "
   ]
  },
  {
   "cell_type": "code",
   "execution_count": null,
   "id": "48a2e265",
   "metadata": {},
   "outputs": [],
   "source": []
  }
 ],
 "metadata": {
  "kernelspec": {
   "display_name": "Python 3 (ipykernel)",
   "language": "python",
   "name": "python3"
  },
  "language_info": {
   "codemirror_mode": {
    "name": "ipython",
    "version": 3
   },
   "file_extension": ".py",
   "mimetype": "text/x-python",
   "name": "python",
   "nbconvert_exporter": "python",
   "pygments_lexer": "ipython3",
   "version": "3.11.4"
  }
 },
 "nbformat": 4,
 "nbformat_minor": 5
}
