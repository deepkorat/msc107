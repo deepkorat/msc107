{
 "cells": [
  {
   "cell_type": "code",
   "execution_count": 1,
   "id": "aa97e613",
   "metadata": {},
   "outputs": [
    {
     "ename": "IndentationError",
     "evalue": "unexpected indent (2718737708.py, line 3)",
     "output_type": "error",
     "traceback": [
      "\u001b[1;36m  Cell \u001b[1;32mIn[1], line 3\u001b[1;36m\u001b[0m\n\u001b[1;33m    Imputation technique\u001b[0m\n\u001b[1;37m    ^\u001b[0m\n\u001b[1;31mIndentationError\u001b[0m\u001b[1;31m:\u001b[0m unexpected indent\n"
     ]
    }
   ],
   "source": [
    "## Drop duplicates\n",
    "## Handling Missing value\n",
    "    Imputation technique\n",
    "    Interpolation technique\n",
    "    \n",
    "## Handling Outliers\n",
    "    z-score\n",
    "    IQR\n",
    "    clip function throught\n",
    "## Feature Scaling\n",
    "    Min-max-scaler\n",
    "    StandarScaler\n",
    "    Robus Scaler\n",
    "    Normalization\n",
    "\n",
    "## Handling categorical data\n",
    "    One Hot Encoding\n",
    "    Ordinal Encoding"
   ]
  }
 ],
 "metadata": {
  "kernelspec": {
   "display_name": "Python 3 (ipykernel)",
   "language": "python",
   "name": "python3"
  },
  "language_info": {
   "codemirror_mode": {
    "name": "ipython",
    "version": 3
   },
   "file_extension": ".py",
   "mimetype": "text/x-python",
   "name": "python",
   "nbconvert_exporter": "python",
   "pygments_lexer": "ipython3",
   "version": "3.11.4"
  }
 },
 "nbformat": 4,
 "nbformat_minor": 5
}
