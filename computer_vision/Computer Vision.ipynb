{
 "cells": [
  {
   "cell_type": "code",
   "execution_count": 3,
   "id": "644ce523",
   "metadata": {},
   "outputs": [],
   "source": [
    "import cv2 as cv, cv2\n",
    "import numpy as np\n",
    "import matplotlib.pyplot as plt"
   ]
  },
  {
   "cell_type": "markdown",
   "id": "d277ba9a",
   "metadata": {},
   "source": [
    "## Zoom Image"
   ]
  },
  {
   "cell_type": "code",
   "execution_count": 19,
   "id": "305a8fb2",
   "metadata": {},
   "outputs": [
    {
     "data": {
      "text/plain": [
       "True"
      ]
     },
     "execution_count": 19,
     "metadata": {},
     "output_type": "execute_result"
    }
   ],
   "source": [
    "import cv2\n",
    "\n",
    "def zoom_center(img, zoom_factor=20.5):\n",
    "\n",
    "    y_size = img.shape[0]\n",
    "    x_size = img.shape[1]\n",
    "    \n",
    "    # define new boundaries\n",
    "    x1 = int(0.5*x_size*(1-1/zoom_factor))\n",
    "    x2 = int(x_size-0.5*x_size*(1-1/zoom_factor))\n",
    "    y1 = int(0.5*y_size*(1-1/zoom_factor))\n",
    "    y2 = int(y_size-0.5*y_size*(1-1/zoom_factor))\n",
    "\n",
    "    # first crop image then scale\n",
    "    img_cropped = img[y1:y2,x1:x2]\n",
    "    return cv2.resize(img_cropped, None, fx=zoom_factor, fy=zoom_factor)\n",
    "\n",
    "# # read original \n",
    "img = cv2.imread('sport.jpg')\n",
    "\n",
    "# # call our function\n",
    "img_zoomed_and_cropped = zoom_center(img)\n",
    "\n",
    "# # write zoomed and cropped version\n",
    "writed_img = cv2.imwrite('zoomed_and_cropped.png', img_zoomed_and_cropped)\n",
    "writed_img"
   ]
  },
  {
   "cell_type": "code",
   "execution_count": 20,
   "id": "9dd97158",
   "metadata": {},
   "outputs": [],
   "source": [
    "cv.imshow(\"Zoomed image\", img_zoomed_and_cropped)\n",
    "cv.waitKey(0)\n",
    "cv.destroyAllWindows()"
   ]
  },
  {
   "cell_type": "markdown",
   "id": "bb1d8271",
   "metadata": {},
   "source": [
    "# 4 Neighbours"
   ]
  },
  {
   "cell_type": "code",
   "execution_count": 7,
   "id": "9b261219",
   "metadata": {},
   "outputs": [
    {
     "name": "stdout",
     "output_type": "stream",
     "text": [
      "[[301 300]\n",
      " [299 300]\n",
      " [300 301]\n",
      " [300 299]]\n"
     ]
    }
   ],
   "source": [
    "image = cv.imread('sport.jpg')\n",
    "\n",
    "### resize the image\n",
    "x_size, y_size , z_size = image.shape\n",
    "image = cv.resize(image, (int(y_size/6), int(x_size/6)))\n",
    "\n",
    "# Take a X and Y value to pick one pixel \n",
    "x, y = 300, 300\n",
    "\n",
    "# Four neighbors\n",
    "four_neighbors = np.array([\n",
    "    [x+1, y],\n",
    "    [x-1, y],\n",
    "    [x, y+1],\n",
    "    [x, y-1]\n",
    "])\n",
    "\n",
    "print(four_neighbors)\n",
    "\n",
    "# re = image[100:200, 100:200]\n",
    "\n",
    "# cv.imshow(\"original image\", four_neighbors)\n",
    "# cv.waitKey(0)\n",
    "# cv.destroyAllWindows()"
   ]
  },
  {
   "cell_type": "markdown",
   "id": "e8384918",
   "metadata": {},
   "source": [
    "# Gray level Slicing"
   ]
  },
  {
   "cell_type": "code",
   "execution_count": 38,
   "id": "b912e34d",
   "metadata": {},
   "outputs": [],
   "source": [
    "image = cv.imread('sport.jpg')\n",
    "\n",
    "### resize the image\n",
    "x, y , z = image.shape\n",
    "resize_image = cv.resize(image, (int(y/6), int(x/6)))\n",
    "gray_image = cv.cvtColor(resize_image, cv.COLOR_BGR2GRAY)\n",
    "\n",
    "### thresh\n",
    "upper_threshold = 2000\n",
    "lower_threshold = 1200\n",
    "mask = np.where((gray_image >= lower_threshold) & (gray_image <= upper_threshold), 255, 0).astype(np.int8)\n",
    "sliced_image = cv.bitwise_and(gray_image, gray_image, mask=mask)\n",
    "\n",
    "### show the image\n",
    "cv.imshow(\"original image\", gray_image)\n",
    "cv.imshow(\"Sport image gray\", sliced_image)\n",
    "cv.waitKey(0)\n",
    "cv.destroyAllWindows()"
   ]
  },
  {
   "cell_type": "markdown",
   "id": "a93d7ac4",
   "metadata": {},
   "source": [
    "# Intensity Slicing"
   ]
  },
  {
   "cell_type": "code",
   "execution_count": 37,
   "id": "d20f2ca2",
   "metadata": {},
   "outputs": [],
   "source": [
    "image = cv.imread('sport.jpg',0)\n",
    "\n",
    "### resize the image\n",
    "x, y = image.shape\n",
    "resize_image = cv.resize(image, (int(y/6), int(x/6)))\n",
    "\n",
    "r1 = resize_image.shape[0]\n",
    "c1 = resize_image.shape[1]\n",
    "        \n",
    "for i in range(r1):\n",
    "    for j in range(c1):\n",
    "        if resize_image[i][j] > 200:\n",
    "            resize_image[i][j] = 150\n",
    "        elif resize_image[i][j] < 10:\n",
    "            resize_image[i][j] = 150\n",
    "        else:\n",
    "            resize_image[i][j]\n",
    "            \n",
    "cv.imshow(\"Intensity slicing Image\", resize_image)\n",
    "cv.waitKey(0)\n",
    "cv.destroyAllWindows()\n"
   ]
  },
  {
   "cell_type": "markdown",
   "id": "522e6597",
   "metadata": {},
   "source": [
    "# Box plot Slicing"
   ]
  },
  {
   "cell_type": "code",
   "execution_count": null,
   "id": "4aa12ec0",
   "metadata": {},
   "outputs": [],
   "source": []
  },
  {
   "cell_type": "markdown",
   "id": "9a714eef",
   "metadata": {},
   "source": [
    "# Filter 2D\n",
    "### Blue effect usign filter2D fun$^{c}$"
   ]
  },
  {
   "cell_type": "code",
   "execution_count": 151,
   "id": "df745fa9",
   "metadata": {},
   "outputs": [],
   "source": [
    "image = cv.imread('nature2.jpg')\n",
    "x, y , z = image.shape\n",
    "image = cv2.resize(image, (int(y/8), int(x/8)))\n",
    "kernal1 = np.ones((3,3))\n",
    "# kernal2 = np.array()\n",
    "kernal1\n",
    "\n",
    "filtered_image = cv2.filter2D(image, -1, kernel=kernel1) \n",
    "\n",
    "# Showing the original and output image \n",
    "cv2.imshow('Original', image) \n",
    "cv2.imshow('Kernel through filter Blur', filtered_image) \n",
    "  \n",
    "cv2.waitKey() \n",
    "cv2.destroyAllWindows() "
   ]
  },
  {
   "cell_type": "markdown",
   "id": "d323c23f",
   "metadata": {},
   "source": [
    "### Edge Detection using filter2D function"
   ]
  },
  {
   "cell_type": "code",
   "execution_count": null,
   "id": "44f63991",
   "metadata": {},
   "outputs": [],
   "source": [
    "image = cv.imread('nature1.jpg')\n",
    "x, y , z = image.shape\n",
    "image = cv2.resize(image, (int(y/8), int(x/8)))\n",
    "\n",
    "# Edges Kernal\n",
    "edge_kernal = np.array([\n",
    "    [-1, -1, -1],\n",
    "    [-1, 8, -1 ],\n",
    "    [-1, -1, -1]\n",
    "])\n",
    "\n",
    "# Applying the filter2D() function\n",
    "filtered_image = cv2.filter2D(image, -1, kernel=edge_kernal) \n",
    "\n",
    "# Showing the original and output image \n",
    "cv2.imshow('Original', image) \n",
    "cv2.imshow('Kernel through filter Blur', filtered_image) \n",
    "  \n",
    "cv2.waitKey() \n",
    "cv2.destroyAllWindows() "
   ]
  },
  {
   "cell_type": "markdown",
   "id": "3b0c5942",
   "metadata": {},
   "source": [
    "### Box Blur - Divide by 9"
   ]
  },
  {
   "cell_type": "code",
   "execution_count": 156,
   "id": "cf99c49a",
   "metadata": {},
   "outputs": [],
   "source": [
    "image = cv.imread('nature2.jpg')\n",
    "x, y , z = image.shape\n",
    "image = cv2.resize(image, (int(y/8), int(x/8)))\n",
    "\n",
    "# Edges Kernal\n",
    "kernal = np.array([\n",
    "    [1, 1, 1],\n",
    "    [1, 1, 1],\n",
    "    [1, 1, 1]\n",
    "])/9\n",
    "\n",
    "# Applying the filter2D() function\n",
    "filtered_image = cv2.filter2D(image, -1, kernel=kernal) \n",
    "\n",
    "# Showing the original and output image \n",
    "cv2.imshow('Original', image) \n",
    "cv2.imshow('Kernel through filter Blur', filtered_image) \n",
    "  \n",
    "cv2.waitKey() \n",
    "cv2.destroyAllWindows() "
   ]
  },
  {
   "cell_type": "markdown",
   "id": "db181ecf",
   "metadata": {},
   "source": [
    "### Sharpen Kernal"
   ]
  },
  {
   "cell_type": "code",
   "execution_count": null,
   "id": "d3bef049",
   "metadata": {},
   "outputs": [],
   "source": [
    "image = cv2.imread('nature2.jpg')\n",
    "x, y , z = image.shape\n",
    "image = cv2.resize(image, (int(y/8), int(x/8)))\n",
    "\n",
    "# Edges Kernal\n",
    "kernal = np.array([\n",
    "    [0, -1, 0],\n",
    "    [-1, 5, -1],\n",
    "    [0, -1, 0]\n",
    "])\n",
    "\n",
    "# Applying the filter2D() function\n",
    "filtered_image = cv2.filter2D(image, -1, kernel=kernal) \n",
    "\n",
    "# Showing the original and output image \n",
    "cv2.imshow('Original', image) \n",
    "cv2.imshow('Kernel through filter Blur', filtered_image) \n",
    "  \n",
    "cv2.waitKey() \n",
    "cv2.destroyAllWindows()"
   ]
  },
  {
   "cell_type": "markdown",
   "id": "ac15afd5",
   "metadata": {},
   "source": []
  },
  {
   "cell_type": "code",
   "execution_count": 40,
   "id": "8cc94783",
   "metadata": {},
   "outputs": [
    {
     "data": {
      "text/plain": [
       "array([[[0, 0, 0],\n",
       "        [0, 0, 0],\n",
       "        [0, 0, 0],\n",
       "        ...,\n",
       "        [0, 0, 0],\n",
       "        [0, 0, 0],\n",
       "        [0, 0, 0]],\n",
       "\n",
       "       [[0, 0, 0],\n",
       "        [0, 0, 0],\n",
       "        [0, 0, 0],\n",
       "        ...,\n",
       "        [0, 0, 0],\n",
       "        [0, 0, 0],\n",
       "        [0, 0, 0]],\n",
       "\n",
       "       [[0, 0, 0],\n",
       "        [0, 0, 0],\n",
       "        [0, 0, 0],\n",
       "        ...,\n",
       "        [0, 0, 0],\n",
       "        [0, 0, 0],\n",
       "        [0, 0, 0]],\n",
       "\n",
       "       ...,\n",
       "\n",
       "       [[0, 0, 0],\n",
       "        [0, 0, 0],\n",
       "        [0, 0, 0],\n",
       "        ...,\n",
       "        [0, 0, 0],\n",
       "        [0, 0, 0],\n",
       "        [0, 0, 0]],\n",
       "\n",
       "       [[0, 0, 0],\n",
       "        [0, 0, 0],\n",
       "        [0, 0, 0],\n",
       "        ...,\n",
       "        [0, 0, 0],\n",
       "        [0, 0, 0],\n",
       "        [0, 0, 0]],\n",
       "\n",
       "       [[0, 0, 0],\n",
       "        [0, 0, 0],\n",
       "        [0, 0, 0],\n",
       "        ...,\n",
       "        [0, 0, 0],\n",
       "        [0, 0, 0],\n",
       "        [0, 0, 0]]], dtype=uint8)"
      ]
     },
     "execution_count": 40,
     "metadata": {},
     "output_type": "execute_result"
    }
   ],
   "source": [
    "filtered = np.zeros_like(image)\n",
    "cv"
   ]
  }
 ],
 "metadata": {
  "kernelspec": {
   "display_name": "Python 3 (ipykernel)",
   "language": "python",
   "name": "python3"
  },
  "language_info": {
   "codemirror_mode": {
    "name": "ipython",
    "version": 3
   },
   "file_extension": ".py",
   "mimetype": "text/x-python",
   "name": "python",
   "nbconvert_exporter": "python",
   "pygments_lexer": "ipython3",
   "version": "3.11.4"
  }
 },
 "nbformat": 4,
 "nbformat_minor": 5
}
