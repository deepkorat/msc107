{
 "cells": [
  {
   "cell_type": "code",
   "execution_count": 3,
   "id": "efa810a5",
   "metadata": {},
   "outputs": [],
   "source": [
    "import numpy as np\n",
    "import pandas as pd"
   ]
  },
  {
   "cell_type": "code",
   "execution_count": 22,
   "id": "957eb63a",
   "metadata": {},
   "outputs": [
    {
     "data": {
      "text/plain": [
       "array([2.   , 2.055, 2.11 , 2.165, 2.22 , 2.275, 2.33 , 2.385, 2.44 ,\n",
       "       2.495, 2.55 , 2.605, 2.66 , 2.715, 2.77 , 2.825, 2.88 , 2.935,\n",
       "       2.99 ])"
      ]
     },
     "execution_count": 22,
     "metadata": {},
     "output_type": "execute_result"
    }
   ],
   "source": [
    "np.arange(2,3,0.055)"
   ]
  },
  {
   "cell_type": "code",
   "execution_count": 23,
   "id": "e62b0bfb",
   "metadata": {},
   "outputs": [
    {
     "data": {
      "text/plain": [
       "array([2.        , 2.01010101, 2.02020202, 2.03030303, 2.04040404,\n",
       "       2.05050505, 2.06060606, 2.07070707, 2.08080808, 2.09090909,\n",
       "       2.1010101 , 2.11111111, 2.12121212, 2.13131313, 2.14141414,\n",
       "       2.15151515, 2.16161616, 2.17171717, 2.18181818, 2.19191919,\n",
       "       2.2020202 , 2.21212121, 2.22222222, 2.23232323, 2.24242424,\n",
       "       2.25252525, 2.26262626, 2.27272727, 2.28282828, 2.29292929,\n",
       "       2.3030303 , 2.31313131, 2.32323232, 2.33333333, 2.34343434,\n",
       "       2.35353535, 2.36363636, 2.37373737, 2.38383838, 2.39393939,\n",
       "       2.4040404 , 2.41414141, 2.42424242, 2.43434343, 2.44444444,\n",
       "       2.45454545, 2.46464646, 2.47474747, 2.48484848, 2.49494949,\n",
       "       2.50505051, 2.51515152, 2.52525253, 2.53535354, 2.54545455,\n",
       "       2.55555556, 2.56565657, 2.57575758, 2.58585859, 2.5959596 ,\n",
       "       2.60606061, 2.61616162, 2.62626263, 2.63636364, 2.64646465,\n",
       "       2.65656566, 2.66666667, 2.67676768, 2.68686869, 2.6969697 ,\n",
       "       2.70707071, 2.71717172, 2.72727273, 2.73737374, 2.74747475,\n",
       "       2.75757576, 2.76767677, 2.77777778, 2.78787879, 2.7979798 ,\n",
       "       2.80808081, 2.81818182, 2.82828283, 2.83838384, 2.84848485,\n",
       "       2.85858586, 2.86868687, 2.87878788, 2.88888889, 2.8989899 ,\n",
       "       2.90909091, 2.91919192, 2.92929293, 2.93939394, 2.94949495,\n",
       "       2.95959596, 2.96969697, 2.97979798, 2.98989899, 3.        ])"
      ]
     },
     "execution_count": 23,
     "metadata": {},
     "output_type": "execute_result"
    }
   ],
   "source": [
    "np.linspace(2,3,100)"
   ]
  },
  {
   "cell_type": "code",
   "execution_count": 30,
   "id": "ab44b542",
   "metadata": {},
   "outputs": [
    {
     "data": {
      "text/plain": [
       "array([3, 4, 5, 6, 7])"
      ]
     },
     "execution_count": 30,
     "metadata": {},
     "output_type": "execute_result"
    }
   ],
   "source": [
    "arr1 = np.array([1,2,3,4,5])\n",
    "# arr2 = np.array([6,7,8,9,10])\n",
    "arr2 = np.array([2])\n",
    "\n",
    "arr1+arr2"
   ]
  },
  {
   "cell_type": "code",
   "execution_count": 69,
   "id": "4cb4ae1a",
   "metadata": {},
   "outputs": [
    {
     "data": {
      "text/plain": [
       "array([[1, 2, 3],\n",
       "       [4, 5, 6],\n",
       "       [7, 8, 9]])"
      ]
     },
     "execution_count": 69,
     "metadata": {},
     "output_type": "execute_result"
    }
   ],
   "source": [
    "arr1 = np.array([[1,2,3], [4,5,6], [7,8,9]])\n",
    "arr2 = np.array([[1,2],[3,4],[5,6]])\n",
    "arr3 = np.array([[7,5,7],[8,3,4],[9,4,5]])\n",
    "\n",
    "arr1"
   ]
  },
  {
   "cell_type": "code",
   "execution_count": 78,
   "id": "d7fb7ab1",
   "metadata": {},
   "outputs": [
    {
     "data": {
      "text/plain": [
       "array([[5, 6],\n",
       "       [8, 9]])"
      ]
     },
     "execution_count": 78,
     "metadata": {},
     "output_type": "execute_result"
    }
   ],
   "source": [
    "new_arr = np.array([[arr1[1][1], arr1[1][2]], [arr1[2][1], arr1[2][2]]])\n",
    "new_arr"
   ]
  },
  {
   "cell_type": "code",
   "execution_count": 85,
   "id": "a1c87e05",
   "metadata": {},
   "outputs": [
    {
     "name": "stdout",
     "output_type": "stream",
     "text": [
      "[[ 8  7 10]\n",
      " [12  8 10]\n",
      " [16 12 14]]\n"
     ]
    }
   ],
   "source": [
    "print(arr1+arr3)"
   ]
  },
  {
   "cell_type": "code",
   "execution_count": 80,
   "id": "d0404cdd",
   "metadata": {},
   "outputs": [
    {
     "data": {
      "text/plain": [
       "array([[-6, -3, -4],\n",
       "       [-4,  2,  2],\n",
       "       [-2,  4,  4]])"
      ]
     },
     "execution_count": 80,
     "metadata": {},
     "output_type": "execute_result"
    }
   ],
   "source": [
    "arr1-arr3"
   ]
  },
  {
   "cell_type": "code",
   "execution_count": 81,
   "id": "8a2f8b4c",
   "metadata": {},
   "outputs": [
    {
     "data": {
      "text/plain": [
       "array([[ 7, 10, 21],\n",
       "       [32, 15, 24],\n",
       "       [63, 32, 45]])"
      ]
     },
     "execution_count": 81,
     "metadata": {},
     "output_type": "execute_result"
    }
   ],
   "source": [
    "arr1*arr3"
   ]
  },
  {
   "cell_type": "code",
   "execution_count": 86,
   "id": "1f01715d",
   "metadata": {},
   "outputs": [
    {
     "data": {
      "text/plain": [
       "array([[ 5,  6,  7],\n",
       "       [ 8,  9, 10],\n",
       "       [11, 12, 13]])"
      ]
     },
     "execution_count": 86,
     "metadata": {},
     "output_type": "execute_result"
    }
   ],
   "source": [
    "arr1+4"
   ]
  },
  {
   "cell_type": "code",
   "execution_count": 95,
   "id": "f6453c94",
   "metadata": {},
   "outputs": [
    {
     "data": {
      "text/plain": [
       "19"
      ]
     },
     "execution_count": 95,
     "metadata": {},
     "output_type": "execute_result"
    }
   ],
   "source": [
    "odd_find= np.arange(1,20)\n",
    "odd_find[1::2]\n",
    "odd_find[-1]"
   ]
  },
  {
   "cell_type": "code",
   "execution_count": 99,
   "id": "fce7eb30",
   "metadata": {},
   "outputs": [
    {
     "data": {
      "text/plain": [
       "array([[1, 2, 3],\n",
       "       [4, 5, 6],\n",
       "       [7, 8, 9]])"
      ]
     },
     "execution_count": 99,
     "metadata": {},
     "output_type": "execute_result"
    }
   ],
   "source": [
    "arr1"
   ]
  },
  {
   "cell_type": "code",
   "execution_count": 98,
   "id": "f6bf8e88",
   "metadata": {},
   "outputs": [
    {
     "data": {
      "text/plain": [
       "array([[7, 8, 9],\n",
       "       [4, 5, 6],\n",
       "       [1, 2, 3]])"
      ]
     },
     "execution_count": 98,
     "metadata": {},
     "output_type": "execute_result"
    }
   ],
   "source": [
    "arr1[::-1]"
   ]
  },
  {
   "cell_type": "code",
   "execution_count": 114,
   "id": "53520271",
   "metadata": {},
   "outputs": [
    {
     "data": {
      "text/plain": [
       "3"
      ]
     },
     "execution_count": 114,
     "metadata": {},
     "output_type": "execute_result"
    }
   ],
   "source": [
    "arr1[0:2:][0][2]"
   ]
  },
  {
   "cell_type": "code",
   "execution_count": 120,
   "id": "332fdbdb",
   "metadata": {},
   "outputs": [
    {
     "data": {
      "text/plain": [
       "array([[1., 0., 0., 0.],\n",
       "       [0., 1., 0., 0.],\n",
       "       [0., 0., 1., 0.],\n",
       "       [0., 0., 0., 1.]])"
      ]
     },
     "execution_count": 120,
     "metadata": {},
     "output_type": "execute_result"
    }
   ],
   "source": [
    "np.eye(4)"
   ]
  },
  {
   "cell_type": "code",
   "execution_count": 121,
   "id": "4b0f54ef",
   "metadata": {},
   "outputs": [],
   "source": [
    "arr1 = np.array([[1,2,3], [4,5,6], [7,8,9]])\n",
    "arr2 = np.array([[1,2],[3,4],[5,6]])\n",
    "arr3 = np.array([[7,5,7],[8,3,4],[9,4,5]])"
   ]
  },
  {
   "cell_type": "code",
   "execution_count": 125,
   "id": "d2e66402",
   "metadata": {},
   "outputs": [
    {
     "data": {
      "text/plain": [
       "array([[ 8,  7, 10],\n",
       "       [12,  8, 10],\n",
       "       [16, 12, 14]])"
      ]
     },
     "execution_count": 125,
     "metadata": {},
     "output_type": "execute_result"
    }
   ],
   "source": [
    "np.add(arr1, arr3)"
   ]
  },
  {
   "cell_type": "code",
   "execution_count": 149,
   "id": "f416a18e",
   "metadata": {},
   "outputs": [],
   "source": [
    "doc_arr=[]"
   ]
  },
  {
   "cell_type": "code",
   "execution_count": 166,
   "id": "7cbf7505",
   "metadata": {},
   "outputs": [],
   "source": [
    "a = np.array([1,2,3])\n",
    "b = np.array([(1.5,2,3), (4,5,6)], dtype = float)\n",
    "c = np.array([[(1.5,2,3), (4,5,6)],[(3,2,1), (4,5,6)]], dtype = float)"
   ]
  },
  {
   "cell_type": "code",
   "execution_count": 167,
   "id": "ffa3c6ec",
   "metadata": {},
   "outputs": [
    {
     "data": {
      "text/plain": [
       "array([[[1.5, 2. , 3. ],\n",
       "        [4. , 5. , 6. ]],\n",
       "\n",
       "       [[3. , 2. , 1. ],\n",
       "        [4. , 5. , 6. ]]])"
      ]
     },
     "execution_count": 167,
     "metadata": {},
     "output_type": "execute_result"
    }
   ],
   "source": [
    "c"
   ]
  },
  {
   "cell_type": "code",
   "execution_count": 177,
   "id": "e074f228",
   "metadata": {},
   "outputs": [
    {
     "data": {
      "text/plain": [
       "array([ 0,  5, 10, 15, 20, 25])"
      ]
     },
     "execution_count": 177,
     "metadata": {},
     "output_type": "execute_result"
    }
   ],
   "source": [
    "np.arange(0,30,5)"
   ]
  },
  {
   "cell_type": "code",
   "execution_count": 199,
   "id": "a51fc228",
   "metadata": {},
   "outputs": [],
   "source": [
    "arr4 = np.array([[1,2,3,4],[5,6,7,8],[4,6,3,7]])"
   ]
  },
  {
   "cell_type": "code",
   "execution_count": 200,
   "id": "a74ea639",
   "metadata": {},
   "outputs": [
    {
     "data": {
      "text/plain": [
       "(3, 4)"
      ]
     },
     "execution_count": 200,
     "metadata": {},
     "output_type": "execute_result"
    }
   ],
   "source": [
    "arr4.shape"
   ]
  },
  {
   "cell_type": "code",
   "execution_count": 201,
   "id": "44667531",
   "metadata": {},
   "outputs": [
    {
     "data": {
      "text/plain": [
       "array([[1, 2, 3],\n",
       "       [4, 5, 6],\n",
       "       [7, 8, 4],\n",
       "       [6, 3, 7]])"
      ]
     },
     "execution_count": 201,
     "metadata": {},
     "output_type": "execute_result"
    }
   ],
   "source": [
    "arr4.reshape(4,3)"
   ]
  },
  {
   "cell_type": "code",
   "execution_count": 195,
   "id": "65fd38a9",
   "metadata": {},
   "outputs": [
    {
     "data": {
      "text/plain": [
       "array([[ 0,  1,  2,  3],\n",
       "       [ 4,  5,  6,  7],\n",
       "       [ 8,  9, 10, 11],\n",
       "       [12, 13, 14, 15]])"
      ]
     },
     "execution_count": 195,
     "metadata": {},
     "output_type": "execute_result"
    }
   ],
   "source": [
    "np.arange(16).reshape((4, 4))"
   ]
  },
  {
   "cell_type": "code",
   "execution_count": 208,
   "id": "077c7140",
   "metadata": {},
   "outputs": [
    {
     "data": {
      "text/plain": [
       "array([[2, 0, 0, 0],\n",
       "       [0, 1, 0, 0],\n",
       "       [0, 0, 1, 0],\n",
       "       [0, 0, 0, 1]], dtype=int32)"
      ]
     },
     "execution_count": 208,
     "metadata": {},
     "output_type": "execute_result"
    }
   ],
   "source": [
    "eye = np.eye(4, dtype='i')\n",
    "eye[0][0] = 2\n",
    "eye"
   ]
  },
  {
   "cell_type": "code",
   "execution_count": 209,
   "id": "23301c62",
   "metadata": {},
   "outputs": [
    {
     "data": {
      "text/plain": [
       "array([[2, 0, 0, 0],\n",
       "       [0, 1, 0, 0],\n",
       "       [0, 0, 1, 0],\n",
       "       [0, 0, 0, 1]], dtype=int32)"
      ]
     },
     "execution_count": 209,
     "metadata": {},
     "output_type": "execute_result"
    }
   ],
   "source": [
    "identity = np.identity(4, dtype='i')\n",
    "identity[0][0] = 2\n",
    "identity"
   ]
  },
  {
   "cell_type": "markdown",
   "id": "c1c5349e",
   "metadata": {},
   "source": [
    "### Assignment question"
   ]
  },
  {
   "cell_type": "code",
   "execution_count": 214,
   "id": "92411ab6",
   "metadata": {},
   "outputs": [
    {
     "data": {
      "text/plain": [
       "array([0., 0., 0., 0., 0., 0., 0., 0., 0., 0.])"
      ]
     },
     "execution_count": 214,
     "metadata": {},
     "output_type": "execute_result"
    }
   ],
   "source": [
    "np.zeros((10))"
   ]
  },
  {
   "cell_type": "code",
   "execution_count": 216,
   "id": "ffe3a230",
   "metadata": {},
   "outputs": [
    {
     "data": {
      "text/plain": [
       "array(['a', 'e', 'i', 'o', 'u'], dtype='<U1')"
      ]
     },
     "execution_count": 216,
     "metadata": {},
     "output_type": "execute_result"
    }
   ],
   "source": [
    "np.array(['a','e','i','o','u'])"
   ]
  },
  {
   "cell_type": "code",
   "execution_count": 221,
   "id": "c2d963f0",
   "metadata": {},
   "outputs": [
    {
     "data": {
      "text/plain": [
       "array([[1, 1, 1, 1, 1],\n",
       "       [1, 1, 1, 1, 1]], dtype=int32)"
      ]
     },
     "execution_count": 221,
     "metadata": {},
     "output_type": "execute_result"
    }
   ],
   "source": [
    "np.linspace(1,1,10, dtype='i').reshape(2,5)"
   ]
  },
  {
   "cell_type": "code",
   "execution_count": 230,
   "id": "a59b7efb",
   "metadata": {},
   "outputs": [
    {
     "data": {
      "text/plain": [
       "array([[1, 1, 1, 1, 1],\n",
       "       [1, 1, 1, 1, 1]], dtype=int32)"
      ]
     },
     "execution_count": 230,
     "metadata": {},
     "output_type": "execute_result"
    }
   ],
   "source": [
    "np.ones((2,5), dtype='i')"
   ]
  },
  {
   "cell_type": "code",
   "execution_count": 235,
   "id": "04271ad6",
   "metadata": {},
   "outputs": [
    {
     "data": {
      "text/plain": [
       "array([[  2.7,   2. , -19. ],\n",
       "       [  0. ,   3.4,  99.9],\n",
       "       [ 10.6,   0. ,  13. ]])"
      ]
     },
     "execution_count": 235,
     "metadata": {},
     "output_type": "execute_result"
    }
   ],
   "source": [
    "myarray1 = np.array([[2.7,2,-19],[0,3.4,99.9],[10.6,0,13]])\n",
    "myarray1"
   ]
  },
  {
   "cell_type": "code",
   "execution_count": 264,
   "id": "cd541af2",
   "metadata": {},
   "outputs": [
    {
     "data": {
      "text/plain": [
       "array([[ 4.,  8., 12., 16., 20.],\n",
       "       [24., 28., 32., 36., 40.],\n",
       "       [44., 48., 52., 56., 60.]], dtype=float32)"
      ]
     },
     "execution_count": 264,
     "metadata": {},
     "output_type": "execute_result"
    }
   ],
   "source": [
    "myarray2 = np.arange(4,64,4, dtype='f').reshape((3,5))\n",
    "myarray2"
   ]
  },
  {
   "cell_type": "code",
   "execution_count": 294,
   "id": "27f10a59",
   "metadata": {},
   "outputs": [
    {
     "data": {
      "text/plain": [
       "array([[ 4,  8, 12, 16, 21],\n",
       "       [25, 29, 34, 38, 42],\n",
       "       [46, 51, 55, 59, 64]])"
      ]
     },
     "execution_count": 294,
     "metadata": {},
     "output_type": "execute_result"
    }
   ],
   "source": [
    "myarr = np.linspace(4,64,15, dtype=int).reshape(3,5)\n",
    "myarr"
   ]
  }
 ],
 "metadata": {
  "kernelspec": {
   "display_name": "Python 3 (ipykernel)",
   "language": "python",
   "name": "python3"
  },
  "language_info": {
   "codemirror_mode": {
    "name": "ipython",
    "version": 3
   },
   "file_extension": ".py",
   "mimetype": "text/x-python",
   "name": "python",
   "nbconvert_exporter": "python",
   "pygments_lexer": "ipython3",
   "version": "3.11.4"
  }
 },
 "nbformat": 4,
 "nbformat_minor": 5
}
